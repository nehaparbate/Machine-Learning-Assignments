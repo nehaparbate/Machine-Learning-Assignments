{
  "nbformat": 4,
  "nbformat_minor": 0,
  "metadata": {
    "colab": {
      "provenance": []
    },
    "kernelspec": {
      "name": "python3",
      "display_name": "Python 3"
    },
    "language_info": {
      "name": "python"
    }
  },
  "cells": [
    {
      "cell_type": "markdown",
      "source": [
        "Import the required libraries"
      ],
      "metadata": {
        "id": "QIUBYhaXemnd"
      }
    },
    {
      "cell_type": "code",
      "source": [
        "import pandas as pd\n",
        "import numpy as np\n",
        "import matplotlib.pyplot as plt\n",
        "from sklearn import datasets\n",
        "from sklearn.model_selection import train_test_split"
      ],
      "metadata": {
        "id": "knlR51KPs8pH"
      },
      "execution_count": 190,
      "outputs": []
    },
    {
      "cell_type": "markdown",
      "source": [
        "Prepare the dataset, find out its shape size, divide in traning and testing sets "
      ],
      "metadata": {
        "id": "blRnJaMdVzJw"
      }
    },
    {
      "cell_type": "code",
      "source": [
        "data = datasets.load_iris()\n",
        "data"
      ],
      "metadata": {
        "id": "Evb2wKHNVx6n",
        "colab": {
          "base_uri": "https://localhost:8080/"
        },
        "outputId": "a475836e-2175-471a-e615-05c753abc519"
      },
      "execution_count": 191,
      "outputs": [
        {
          "output_type": "execute_result",
          "data": {
            "text/plain": [
              "{'data': array([[5.1, 3.5, 1.4, 0.2],\n",
              "        [4.9, 3. , 1.4, 0.2],\n",
              "        [4.7, 3.2, 1.3, 0.2],\n",
              "        [4.6, 3.1, 1.5, 0.2],\n",
              "        [5. , 3.6, 1.4, 0.2],\n",
              "        [5.4, 3.9, 1.7, 0.4],\n",
              "        [4.6, 3.4, 1.4, 0.3],\n",
              "        [5. , 3.4, 1.5, 0.2],\n",
              "        [4.4, 2.9, 1.4, 0.2],\n",
              "        [4.9, 3.1, 1.5, 0.1],\n",
              "        [5.4, 3.7, 1.5, 0.2],\n",
              "        [4.8, 3.4, 1.6, 0.2],\n",
              "        [4.8, 3. , 1.4, 0.1],\n",
              "        [4.3, 3. , 1.1, 0.1],\n",
              "        [5.8, 4. , 1.2, 0.2],\n",
              "        [5.7, 4.4, 1.5, 0.4],\n",
              "        [5.4, 3.9, 1.3, 0.4],\n",
              "        [5.1, 3.5, 1.4, 0.3],\n",
              "        [5.7, 3.8, 1.7, 0.3],\n",
              "        [5.1, 3.8, 1.5, 0.3],\n",
              "        [5.4, 3.4, 1.7, 0.2],\n",
              "        [5.1, 3.7, 1.5, 0.4],\n",
              "        [4.6, 3.6, 1. , 0.2],\n",
              "        [5.1, 3.3, 1.7, 0.5],\n",
              "        [4.8, 3.4, 1.9, 0.2],\n",
              "        [5. , 3. , 1.6, 0.2],\n",
              "        [5. , 3.4, 1.6, 0.4],\n",
              "        [5.2, 3.5, 1.5, 0.2],\n",
              "        [5.2, 3.4, 1.4, 0.2],\n",
              "        [4.7, 3.2, 1.6, 0.2],\n",
              "        [4.8, 3.1, 1.6, 0.2],\n",
              "        [5.4, 3.4, 1.5, 0.4],\n",
              "        [5.2, 4.1, 1.5, 0.1],\n",
              "        [5.5, 4.2, 1.4, 0.2],\n",
              "        [4.9, 3.1, 1.5, 0.2],\n",
              "        [5. , 3.2, 1.2, 0.2],\n",
              "        [5.5, 3.5, 1.3, 0.2],\n",
              "        [4.9, 3.6, 1.4, 0.1],\n",
              "        [4.4, 3. , 1.3, 0.2],\n",
              "        [5.1, 3.4, 1.5, 0.2],\n",
              "        [5. , 3.5, 1.3, 0.3],\n",
              "        [4.5, 2.3, 1.3, 0.3],\n",
              "        [4.4, 3.2, 1.3, 0.2],\n",
              "        [5. , 3.5, 1.6, 0.6],\n",
              "        [5.1, 3.8, 1.9, 0.4],\n",
              "        [4.8, 3. , 1.4, 0.3],\n",
              "        [5.1, 3.8, 1.6, 0.2],\n",
              "        [4.6, 3.2, 1.4, 0.2],\n",
              "        [5.3, 3.7, 1.5, 0.2],\n",
              "        [5. , 3.3, 1.4, 0.2],\n",
              "        [7. , 3.2, 4.7, 1.4],\n",
              "        [6.4, 3.2, 4.5, 1.5],\n",
              "        [6.9, 3.1, 4.9, 1.5],\n",
              "        [5.5, 2.3, 4. , 1.3],\n",
              "        [6.5, 2.8, 4.6, 1.5],\n",
              "        [5.7, 2.8, 4.5, 1.3],\n",
              "        [6.3, 3.3, 4.7, 1.6],\n",
              "        [4.9, 2.4, 3.3, 1. ],\n",
              "        [6.6, 2.9, 4.6, 1.3],\n",
              "        [5.2, 2.7, 3.9, 1.4],\n",
              "        [5. , 2. , 3.5, 1. ],\n",
              "        [5.9, 3. , 4.2, 1.5],\n",
              "        [6. , 2.2, 4. , 1. ],\n",
              "        [6.1, 2.9, 4.7, 1.4],\n",
              "        [5.6, 2.9, 3.6, 1.3],\n",
              "        [6.7, 3.1, 4.4, 1.4],\n",
              "        [5.6, 3. , 4.5, 1.5],\n",
              "        [5.8, 2.7, 4.1, 1. ],\n",
              "        [6.2, 2.2, 4.5, 1.5],\n",
              "        [5.6, 2.5, 3.9, 1.1],\n",
              "        [5.9, 3.2, 4.8, 1.8],\n",
              "        [6.1, 2.8, 4. , 1.3],\n",
              "        [6.3, 2.5, 4.9, 1.5],\n",
              "        [6.1, 2.8, 4.7, 1.2],\n",
              "        [6.4, 2.9, 4.3, 1.3],\n",
              "        [6.6, 3. , 4.4, 1.4],\n",
              "        [6.8, 2.8, 4.8, 1.4],\n",
              "        [6.7, 3. , 5. , 1.7],\n",
              "        [6. , 2.9, 4.5, 1.5],\n",
              "        [5.7, 2.6, 3.5, 1. ],\n",
              "        [5.5, 2.4, 3.8, 1.1],\n",
              "        [5.5, 2.4, 3.7, 1. ],\n",
              "        [5.8, 2.7, 3.9, 1.2],\n",
              "        [6. , 2.7, 5.1, 1.6],\n",
              "        [5.4, 3. , 4.5, 1.5],\n",
              "        [6. , 3.4, 4.5, 1.6],\n",
              "        [6.7, 3.1, 4.7, 1.5],\n",
              "        [6.3, 2.3, 4.4, 1.3],\n",
              "        [5.6, 3. , 4.1, 1.3],\n",
              "        [5.5, 2.5, 4. , 1.3],\n",
              "        [5.5, 2.6, 4.4, 1.2],\n",
              "        [6.1, 3. , 4.6, 1.4],\n",
              "        [5.8, 2.6, 4. , 1.2],\n",
              "        [5. , 2.3, 3.3, 1. ],\n",
              "        [5.6, 2.7, 4.2, 1.3],\n",
              "        [5.7, 3. , 4.2, 1.2],\n",
              "        [5.7, 2.9, 4.2, 1.3],\n",
              "        [6.2, 2.9, 4.3, 1.3],\n",
              "        [5.1, 2.5, 3. , 1.1],\n",
              "        [5.7, 2.8, 4.1, 1.3],\n",
              "        [6.3, 3.3, 6. , 2.5],\n",
              "        [5.8, 2.7, 5.1, 1.9],\n",
              "        [7.1, 3. , 5.9, 2.1],\n",
              "        [6.3, 2.9, 5.6, 1.8],\n",
              "        [6.5, 3. , 5.8, 2.2],\n",
              "        [7.6, 3. , 6.6, 2.1],\n",
              "        [4.9, 2.5, 4.5, 1.7],\n",
              "        [7.3, 2.9, 6.3, 1.8],\n",
              "        [6.7, 2.5, 5.8, 1.8],\n",
              "        [7.2, 3.6, 6.1, 2.5],\n",
              "        [6.5, 3.2, 5.1, 2. ],\n",
              "        [6.4, 2.7, 5.3, 1.9],\n",
              "        [6.8, 3. , 5.5, 2.1],\n",
              "        [5.7, 2.5, 5. , 2. ],\n",
              "        [5.8, 2.8, 5.1, 2.4],\n",
              "        [6.4, 3.2, 5.3, 2.3],\n",
              "        [6.5, 3. , 5.5, 1.8],\n",
              "        [7.7, 3.8, 6.7, 2.2],\n",
              "        [7.7, 2.6, 6.9, 2.3],\n",
              "        [6. , 2.2, 5. , 1.5],\n",
              "        [6.9, 3.2, 5.7, 2.3],\n",
              "        [5.6, 2.8, 4.9, 2. ],\n",
              "        [7.7, 2.8, 6.7, 2. ],\n",
              "        [6.3, 2.7, 4.9, 1.8],\n",
              "        [6.7, 3.3, 5.7, 2.1],\n",
              "        [7.2, 3.2, 6. , 1.8],\n",
              "        [6.2, 2.8, 4.8, 1.8],\n",
              "        [6.1, 3. , 4.9, 1.8],\n",
              "        [6.4, 2.8, 5.6, 2.1],\n",
              "        [7.2, 3. , 5.8, 1.6],\n",
              "        [7.4, 2.8, 6.1, 1.9],\n",
              "        [7.9, 3.8, 6.4, 2. ],\n",
              "        [6.4, 2.8, 5.6, 2.2],\n",
              "        [6.3, 2.8, 5.1, 1.5],\n",
              "        [6.1, 2.6, 5.6, 1.4],\n",
              "        [7.7, 3. , 6.1, 2.3],\n",
              "        [6.3, 3.4, 5.6, 2.4],\n",
              "        [6.4, 3.1, 5.5, 1.8],\n",
              "        [6. , 3. , 4.8, 1.8],\n",
              "        [6.9, 3.1, 5.4, 2.1],\n",
              "        [6.7, 3.1, 5.6, 2.4],\n",
              "        [6.9, 3.1, 5.1, 2.3],\n",
              "        [5.8, 2.7, 5.1, 1.9],\n",
              "        [6.8, 3.2, 5.9, 2.3],\n",
              "        [6.7, 3.3, 5.7, 2.5],\n",
              "        [6.7, 3. , 5.2, 2.3],\n",
              "        [6.3, 2.5, 5. , 1.9],\n",
              "        [6.5, 3. , 5.2, 2. ],\n",
              "        [6.2, 3.4, 5.4, 2.3],\n",
              "        [5.9, 3. , 5.1, 1.8]]),\n",
              " 'target': array([0, 0, 0, 0, 0, 0, 0, 0, 0, 0, 0, 0, 0, 0, 0, 0, 0, 0, 0, 0, 0, 0,\n",
              "        0, 0, 0, 0, 0, 0, 0, 0, 0, 0, 0, 0, 0, 0, 0, 0, 0, 0, 0, 0, 0, 0,\n",
              "        0, 0, 0, 0, 0, 0, 1, 1, 1, 1, 1, 1, 1, 1, 1, 1, 1, 1, 1, 1, 1, 1,\n",
              "        1, 1, 1, 1, 1, 1, 1, 1, 1, 1, 1, 1, 1, 1, 1, 1, 1, 1, 1, 1, 1, 1,\n",
              "        1, 1, 1, 1, 1, 1, 1, 1, 1, 1, 1, 1, 2, 2, 2, 2, 2, 2, 2, 2, 2, 2,\n",
              "        2, 2, 2, 2, 2, 2, 2, 2, 2, 2, 2, 2, 2, 2, 2, 2, 2, 2, 2, 2, 2, 2,\n",
              "        2, 2, 2, 2, 2, 2, 2, 2, 2, 2, 2, 2, 2, 2, 2, 2, 2, 2]),\n",
              " 'frame': None,\n",
              " 'target_names': array(['setosa', 'versicolor', 'virginica'], dtype='<U10'),\n",
              " 'DESCR': '.. _iris_dataset:\\n\\nIris plants dataset\\n--------------------\\n\\n**Data Set Characteristics:**\\n\\n    :Number of Instances: 150 (50 in each of three classes)\\n    :Number of Attributes: 4 numeric, predictive attributes and the class\\n    :Attribute Information:\\n        - sepal length in cm\\n        - sepal width in cm\\n        - petal length in cm\\n        - petal width in cm\\n        - class:\\n                - Iris-Setosa\\n                - Iris-Versicolour\\n                - Iris-Virginica\\n                \\n    :Summary Statistics:\\n\\n    ============== ==== ==== ======= ===== ====================\\n                    Min  Max   Mean    SD   Class Correlation\\n    ============== ==== ==== ======= ===== ====================\\n    sepal length:   4.3  7.9   5.84   0.83    0.7826\\n    sepal width:    2.0  4.4   3.05   0.43   -0.4194\\n    petal length:   1.0  6.9   3.76   1.76    0.9490  (high!)\\n    petal width:    0.1  2.5   1.20   0.76    0.9565  (high!)\\n    ============== ==== ==== ======= ===== ====================\\n\\n    :Missing Attribute Values: None\\n    :Class Distribution: 33.3% for each of 3 classes.\\n    :Creator: R.A. Fisher\\n    :Donor: Michael Marshall (MARSHALL%PLU@io.arc.nasa.gov)\\n    :Date: July, 1988\\n\\nThe famous Iris database, first used by Sir R.A. Fisher. The dataset is taken\\nfrom Fisher\\'s paper. Note that it\\'s the same as in R, but not as in the UCI\\nMachine Learning Repository, which has two wrong data points.\\n\\nThis is perhaps the best known database to be found in the\\npattern recognition literature.  Fisher\\'s paper is a classic in the field and\\nis referenced frequently to this day.  (See Duda & Hart, for example.)  The\\ndata set contains 3 classes of 50 instances each, where each class refers to a\\ntype of iris plant.  One class is linearly separable from the other 2; the\\nlatter are NOT linearly separable from each other.\\n\\n.. topic:: References\\n\\n   - Fisher, R.A. \"The use of multiple measurements in taxonomic problems\"\\n     Annual Eugenics, 7, Part II, 179-188 (1936); also in \"Contributions to\\n     Mathematical Statistics\" (John Wiley, NY, 1950).\\n   - Duda, R.O., & Hart, P.E. (1973) Pattern Classification and Scene Analysis.\\n     (Q327.D83) John Wiley & Sons.  ISBN 0-471-22361-1.  See page 218.\\n   - Dasarathy, B.V. (1980) \"Nosing Around the Neighborhood: A New System\\n     Structure and Classification Rule for Recognition in Partially Exposed\\n     Environments\".  IEEE Transactions on Pattern Analysis and Machine\\n     Intelligence, Vol. PAMI-2, No. 1, 67-71.\\n   - Gates, G.W. (1972) \"The Reduced Nearest Neighbor Rule\".  IEEE Transactions\\n     on Information Theory, May 1972, 431-433.\\n   - See also: 1988 MLC Proceedings, 54-64.  Cheeseman et al\"s AUTOCLASS II\\n     conceptual clustering system finds 3 classes in the data.\\n   - Many, many more ...',\n",
              " 'feature_names': ['sepal length (cm)',\n",
              "  'sepal width (cm)',\n",
              "  'petal length (cm)',\n",
              "  'petal width (cm)'],\n",
              " 'filename': 'iris.csv',\n",
              " 'data_module': 'sklearn.datasets.data'}"
            ]
          },
          "metadata": {},
          "execution_count": 191
        }
      ]
    },
    {
      "cell_type": "markdown",
      "source": [
        "Features of the dataset"
      ],
      "metadata": {
        "id": "4t_W6jIhfAsz"
      }
    },
    {
      "cell_type": "code",
      "source": [
        "features = data.feature_names\n",
        "features"
      ],
      "metadata": {
        "colab": {
          "base_uri": "https://localhost:8080/"
        },
        "id": "ORcm9T3gWIn5",
        "outputId": "bf1f7eea-d349-428a-c1b5-a15c3a070530"
      },
      "execution_count": 192,
      "outputs": [
        {
          "output_type": "execute_result",
          "data": {
            "text/plain": [
              "['sepal length (cm)',\n",
              " 'sepal width (cm)',\n",
              " 'petal length (cm)',\n",
              " 'petal width (cm)']"
            ]
          },
          "metadata": {},
          "execution_count": 192
        }
      ]
    },
    {
      "cell_type": "code",
      "source": [
        "# input variable (independent X)\n",
        "X = (data.data)\n",
        "X"
      ],
      "metadata": {
        "colab": {
          "base_uri": "https://localhost:8080/"
        },
        "id": "uNZcs0qPXhT1",
        "outputId": "d44f5763-4f5d-45c5-d032-72961d431670"
      },
      "execution_count": 182,
      "outputs": [
        {
          "output_type": "execute_result",
          "data": {
            "text/plain": [
              "array([[5.1, 3.5, 1.4, 0.2],\n",
              "       [4.9, 3. , 1.4, 0.2],\n",
              "       [4.7, 3.2, 1.3, 0.2],\n",
              "       [4.6, 3.1, 1.5, 0.2],\n",
              "       [5. , 3.6, 1.4, 0.2],\n",
              "       [5.4, 3.9, 1.7, 0.4],\n",
              "       [4.6, 3.4, 1.4, 0.3],\n",
              "       [5. , 3.4, 1.5, 0.2],\n",
              "       [4.4, 2.9, 1.4, 0.2],\n",
              "       [4.9, 3.1, 1.5, 0.1],\n",
              "       [5.4, 3.7, 1.5, 0.2],\n",
              "       [4.8, 3.4, 1.6, 0.2],\n",
              "       [4.8, 3. , 1.4, 0.1],\n",
              "       [4.3, 3. , 1.1, 0.1],\n",
              "       [5.8, 4. , 1.2, 0.2],\n",
              "       [5.7, 4.4, 1.5, 0.4],\n",
              "       [5.4, 3.9, 1.3, 0.4],\n",
              "       [5.1, 3.5, 1.4, 0.3],\n",
              "       [5.7, 3.8, 1.7, 0.3],\n",
              "       [5.1, 3.8, 1.5, 0.3],\n",
              "       [5.4, 3.4, 1.7, 0.2],\n",
              "       [5.1, 3.7, 1.5, 0.4],\n",
              "       [4.6, 3.6, 1. , 0.2],\n",
              "       [5.1, 3.3, 1.7, 0.5],\n",
              "       [4.8, 3.4, 1.9, 0.2],\n",
              "       [5. , 3. , 1.6, 0.2],\n",
              "       [5. , 3.4, 1.6, 0.4],\n",
              "       [5.2, 3.5, 1.5, 0.2],\n",
              "       [5.2, 3.4, 1.4, 0.2],\n",
              "       [4.7, 3.2, 1.6, 0.2],\n",
              "       [4.8, 3.1, 1.6, 0.2],\n",
              "       [5.4, 3.4, 1.5, 0.4],\n",
              "       [5.2, 4.1, 1.5, 0.1],\n",
              "       [5.5, 4.2, 1.4, 0.2],\n",
              "       [4.9, 3.1, 1.5, 0.2],\n",
              "       [5. , 3.2, 1.2, 0.2],\n",
              "       [5.5, 3.5, 1.3, 0.2],\n",
              "       [4.9, 3.6, 1.4, 0.1],\n",
              "       [4.4, 3. , 1.3, 0.2],\n",
              "       [5.1, 3.4, 1.5, 0.2],\n",
              "       [5. , 3.5, 1.3, 0.3],\n",
              "       [4.5, 2.3, 1.3, 0.3],\n",
              "       [4.4, 3.2, 1.3, 0.2],\n",
              "       [5. , 3.5, 1.6, 0.6],\n",
              "       [5.1, 3.8, 1.9, 0.4],\n",
              "       [4.8, 3. , 1.4, 0.3],\n",
              "       [5.1, 3.8, 1.6, 0.2],\n",
              "       [4.6, 3.2, 1.4, 0.2],\n",
              "       [5.3, 3.7, 1.5, 0.2],\n",
              "       [5. , 3.3, 1.4, 0.2],\n",
              "       [7. , 3.2, 4.7, 1.4],\n",
              "       [6.4, 3.2, 4.5, 1.5],\n",
              "       [6.9, 3.1, 4.9, 1.5],\n",
              "       [5.5, 2.3, 4. , 1.3],\n",
              "       [6.5, 2.8, 4.6, 1.5],\n",
              "       [5.7, 2.8, 4.5, 1.3],\n",
              "       [6.3, 3.3, 4.7, 1.6],\n",
              "       [4.9, 2.4, 3.3, 1. ],\n",
              "       [6.6, 2.9, 4.6, 1.3],\n",
              "       [5.2, 2.7, 3.9, 1.4],\n",
              "       [5. , 2. , 3.5, 1. ],\n",
              "       [5.9, 3. , 4.2, 1.5],\n",
              "       [6. , 2.2, 4. , 1. ],\n",
              "       [6.1, 2.9, 4.7, 1.4],\n",
              "       [5.6, 2.9, 3.6, 1.3],\n",
              "       [6.7, 3.1, 4.4, 1.4],\n",
              "       [5.6, 3. , 4.5, 1.5],\n",
              "       [5.8, 2.7, 4.1, 1. ],\n",
              "       [6.2, 2.2, 4.5, 1.5],\n",
              "       [5.6, 2.5, 3.9, 1.1],\n",
              "       [5.9, 3.2, 4.8, 1.8],\n",
              "       [6.1, 2.8, 4. , 1.3],\n",
              "       [6.3, 2.5, 4.9, 1.5],\n",
              "       [6.1, 2.8, 4.7, 1.2],\n",
              "       [6.4, 2.9, 4.3, 1.3],\n",
              "       [6.6, 3. , 4.4, 1.4],\n",
              "       [6.8, 2.8, 4.8, 1.4],\n",
              "       [6.7, 3. , 5. , 1.7],\n",
              "       [6. , 2.9, 4.5, 1.5],\n",
              "       [5.7, 2.6, 3.5, 1. ],\n",
              "       [5.5, 2.4, 3.8, 1.1],\n",
              "       [5.5, 2.4, 3.7, 1. ],\n",
              "       [5.8, 2.7, 3.9, 1.2],\n",
              "       [6. , 2.7, 5.1, 1.6],\n",
              "       [5.4, 3. , 4.5, 1.5],\n",
              "       [6. , 3.4, 4.5, 1.6],\n",
              "       [6.7, 3.1, 4.7, 1.5],\n",
              "       [6.3, 2.3, 4.4, 1.3],\n",
              "       [5.6, 3. , 4.1, 1.3],\n",
              "       [5.5, 2.5, 4. , 1.3],\n",
              "       [5.5, 2.6, 4.4, 1.2],\n",
              "       [6.1, 3. , 4.6, 1.4],\n",
              "       [5.8, 2.6, 4. , 1.2],\n",
              "       [5. , 2.3, 3.3, 1. ],\n",
              "       [5.6, 2.7, 4.2, 1.3],\n",
              "       [5.7, 3. , 4.2, 1.2],\n",
              "       [5.7, 2.9, 4.2, 1.3],\n",
              "       [6.2, 2.9, 4.3, 1.3],\n",
              "       [5.1, 2.5, 3. , 1.1],\n",
              "       [5.7, 2.8, 4.1, 1.3],\n",
              "       [6.3, 3.3, 6. , 2.5],\n",
              "       [5.8, 2.7, 5.1, 1.9],\n",
              "       [7.1, 3. , 5.9, 2.1],\n",
              "       [6.3, 2.9, 5.6, 1.8],\n",
              "       [6.5, 3. , 5.8, 2.2],\n",
              "       [7.6, 3. , 6.6, 2.1],\n",
              "       [4.9, 2.5, 4.5, 1.7],\n",
              "       [7.3, 2.9, 6.3, 1.8],\n",
              "       [6.7, 2.5, 5.8, 1.8],\n",
              "       [7.2, 3.6, 6.1, 2.5],\n",
              "       [6.5, 3.2, 5.1, 2. ],\n",
              "       [6.4, 2.7, 5.3, 1.9],\n",
              "       [6.8, 3. , 5.5, 2.1],\n",
              "       [5.7, 2.5, 5. , 2. ],\n",
              "       [5.8, 2.8, 5.1, 2.4],\n",
              "       [6.4, 3.2, 5.3, 2.3],\n",
              "       [6.5, 3. , 5.5, 1.8],\n",
              "       [7.7, 3.8, 6.7, 2.2],\n",
              "       [7.7, 2.6, 6.9, 2.3],\n",
              "       [6. , 2.2, 5. , 1.5],\n",
              "       [6.9, 3.2, 5.7, 2.3],\n",
              "       [5.6, 2.8, 4.9, 2. ],\n",
              "       [7.7, 2.8, 6.7, 2. ],\n",
              "       [6.3, 2.7, 4.9, 1.8],\n",
              "       [6.7, 3.3, 5.7, 2.1],\n",
              "       [7.2, 3.2, 6. , 1.8],\n",
              "       [6.2, 2.8, 4.8, 1.8],\n",
              "       [6.1, 3. , 4.9, 1.8],\n",
              "       [6.4, 2.8, 5.6, 2.1],\n",
              "       [7.2, 3. , 5.8, 1.6],\n",
              "       [7.4, 2.8, 6.1, 1.9],\n",
              "       [7.9, 3.8, 6.4, 2. ],\n",
              "       [6.4, 2.8, 5.6, 2.2],\n",
              "       [6.3, 2.8, 5.1, 1.5],\n",
              "       [6.1, 2.6, 5.6, 1.4],\n",
              "       [7.7, 3. , 6.1, 2.3],\n",
              "       [6.3, 3.4, 5.6, 2.4],\n",
              "       [6.4, 3.1, 5.5, 1.8],\n",
              "       [6. , 3. , 4.8, 1.8],\n",
              "       [6.9, 3.1, 5.4, 2.1],\n",
              "       [6.7, 3.1, 5.6, 2.4],\n",
              "       [6.9, 3.1, 5.1, 2.3],\n",
              "       [5.8, 2.7, 5.1, 1.9],\n",
              "       [6.8, 3.2, 5.9, 2.3],\n",
              "       [6.7, 3.3, 5.7, 2.5],\n",
              "       [6.7, 3. , 5.2, 2.3],\n",
              "       [6.3, 2.5, 5. , 1.9],\n",
              "       [6.5, 3. , 5.2, 2. ],\n",
              "       [6.2, 3.4, 5.4, 2.3],\n",
              "       [5.9, 3. , 5.1, 1.8]])"
            ]
          },
          "metadata": {},
          "execution_count": 182
        }
      ]
    },
    {
      "cell_type": "markdown",
      "source": [
        "Shape of the data (Total number of rows and columns)"
      ],
      "metadata": {
        "id": "4m3P0TgmfT4Q"
      }
    },
    {
      "cell_type": "code",
      "source": [
        "X.shape"
      ],
      "metadata": {
        "colab": {
          "base_uri": "https://localhost:8080/"
        },
        "id": "v7g7ZbO3jbOk",
        "outputId": "ecc49cc5-2f64-4922-b215-334f387f45ae"
      },
      "execution_count": 183,
      "outputs": [
        {
          "output_type": "execute_result",
          "data": {
            "text/plain": [
              "(150, 4)"
            ]
          },
          "metadata": {},
          "execution_count": 183
        }
      ]
    },
    {
      "cell_type": "code",
      "source": [
        "# dependent variable \n",
        "y = data.target\n",
        "y"
      ],
      "metadata": {
        "colab": {
          "base_uri": "https://localhost:8080/"
        },
        "id": "4YObI0zltIwn",
        "outputId": "d7e1767c-113e-4cb9-9b91-cf078c107520"
      },
      "execution_count": 184,
      "outputs": [
        {
          "output_type": "execute_result",
          "data": {
            "text/plain": [
              "array([0, 0, 0, 0, 0, 0, 0, 0, 0, 0, 0, 0, 0, 0, 0, 0, 0, 0, 0, 0, 0, 0,\n",
              "       0, 0, 0, 0, 0, 0, 0, 0, 0, 0, 0, 0, 0, 0, 0, 0, 0, 0, 0, 0, 0, 0,\n",
              "       0, 0, 0, 0, 0, 0, 1, 1, 1, 1, 1, 1, 1, 1, 1, 1, 1, 1, 1, 1, 1, 1,\n",
              "       1, 1, 1, 1, 1, 1, 1, 1, 1, 1, 1, 1, 1, 1, 1, 1, 1, 1, 1, 1, 1, 1,\n",
              "       1, 1, 1, 1, 1, 1, 1, 1, 1, 1, 1, 1, 2, 2, 2, 2, 2, 2, 2, 2, 2, 2,\n",
              "       2, 2, 2, 2, 2, 2, 2, 2, 2, 2, 2, 2, 2, 2, 2, 2, 2, 2, 2, 2, 2, 2,\n",
              "       2, 2, 2, 2, 2, 2, 2, 2, 2, 2, 2, 2, 2, 2, 2, 2, 2, 2])"
            ]
          },
          "metadata": {},
          "execution_count": 184
        }
      ]
    },
    {
      "cell_type": "markdown",
      "source": [
        "Visualising some of the features against the target variable "
      ],
      "metadata": {
        "id": "cvkWJGBPfh_Y"
      }
    },
    {
      "cell_type": "code",
      "source": [
        "#plt.scatter(X[:,2],y)"
      ],
      "metadata": {
        "id": "rQExZp-mjmQi"
      },
      "execution_count": 185,
      "outputs": []
    },
    {
      "cell_type": "markdown",
      "source": [
        "Split the data (10 % test)"
      ],
      "metadata": {
        "id": "TVRE_Y7LfreE"
      }
    },
    {
      "cell_type": "code",
      "source": [
        "X_train, X_test, y_train, y_test = train_test_split(X, y, random_state = 42, test_size=0.1, shuffle = True)\n"
      ],
      "metadata": {
        "id": "zsHP71P0ZZrP"
      },
      "execution_count": 186,
      "outputs": []
    },
    {
      "cell_type": "markdown",
      "source": [
        "Implementation of the class LinearRegression "
      ],
      "metadata": {
        "id": "j883-kbzlt_a"
      }
    },
    {
      "cell_type": "code",
      "source": [
        "class LinearRegression:\n",
        "    def __init__(self, batch_count=32, regularization=0, max_epochs=100, patience=3):\n",
        "        self.batch_count = batch_count\n",
        "        self.regularization = regularization\n",
        "        self.max_epochs = max_epochs\n",
        "        self.patience = patience\n",
        "        self.weight = None\n",
        "        self.bias = 0\n",
        "\n",
        "    def fit(self, X, observed_y, batch_count=32, regularization=0, max_epochs=100, patience=3):\n",
        "\n",
        "        self.batch_count = batch_count\n",
        "        self.regularization = regularization\n",
        "        self.max_epochs = max_epochs\n",
        "        self.patience = patience\n",
        "        lr = 0.001\n",
        "        feature_count = X.shape[1]\n",
        "\n",
        "        # Set the model parameters weight and bias based on the number of featurs and the total number of rows.\n",
        "        weight = np.ones(shape = (feature_count))\n",
        "        bias = self.bias\n",
        "\n",
        "        record_count = X.shape[0]\n",
        "        # Take empty list to store the least square erros and number of steps taken\n",
        "        step_num_lt = []\n",
        "        mean_squared_error_lt = [] \n",
        "        lowest_mse = 1e308  # set initial best MSE to a higher value\n",
        "        delay = 0 \n",
        "\n",
        "        for i in range(max_epochs):\n",
        "          randomVal = np.random.choice(X.shape[0], X.shape[0], replace=False)\n",
        "    \n",
        "          Xtemp = X[randomVal]\n",
        "          ytemp = observed_y[randomVal]\n",
        "        \n",
        "          for batch in range(0, record_count, batch_count):\n",
        "            Xb = Xtemp[batch : batch+batch_count]\n",
        "            yb = ytemp[batch : batch+batch_count]\n",
        "            \n",
        "            ypredicted = (weight @ Xb.T) + bias\n",
        "            latest_weight =  -(2/len(Xb)) * (Xb.T @ (yb - ypredicted))\n",
        "            latest_bias = -(2/len(Xb))*np.sum(yb-ypredicted)\n",
        "            \n",
        "            weight = weight - lr * latest_weight\n",
        "            bias = bias - lr * latest_bias\n",
        "            \n",
        "            mse = np.mean((yb - ypredicted)**2)\n",
        "        \n",
        "          mean_squared_error_lt.append(mse)\n",
        "          step_num_lt.append(i)\n",
        "        \n",
        "          if mse < lowest_mse:\n",
        "            lowest_mse = mse\n",
        "            delay = 0\n",
        "          else:\n",
        "            delay += 1\n",
        "            \n",
        "          if delay == patience:\n",
        "            break\n",
        "          #print(weight)\n",
        "          #print(bias)\n",
        "        return weight, bias, mse, mean_squared_error_lt, step_num_lt\n",
        "\n",
        "    # Fit Method using L2 regularization\n",
        "\n",
        "    def fitL2(self, X, observed_y, batch_count=32, L2 = 1, regularization=0, max_epochs=100, patience=3):\n",
        "\n",
        "        self.batch_count = batch_count\n",
        "        self.regularization = regularization\n",
        "        self.max_epochs = max_epochs\n",
        "        self.patience = patience\n",
        "        lr = 0.001\n",
        "        feature_count = X.shape[1]\n",
        "        weight = np.ones(shape = (feature_count))\n",
        "        bias = self.bias\n",
        "\n",
        "        record_count = X.shape[0]\n",
        "        mean_squared_error_lt = [] \n",
        "        step_num_lt = []\n",
        "\n",
        "        lowest_mse = 1e308  # set initial best MSE to higher value\n",
        "        delay = 0  # initialize delay counter\n",
        "\n",
        "        for i in range(max_epochs):\n",
        "\n",
        "          randomVal = np.random.choice(X.shape[0], X.shape[0], replace=False)\n",
        "       \n",
        "          Xtemp = X[randomVal]\n",
        "          ytemp = observed_y[randomVal]\n",
        "        \n",
        "          for batch in range(0, record_count, batch_count):\n",
        "            Xb = Xtemp[batch : batch+batch_count]\n",
        "            yb = ytemp[batch : batch+batch_count]\n",
        "\n",
        "            ypredicted = (weight @ Xb.T) + bias\n",
        "                \n",
        "            latest_weight =  -(2/len(Xb)) * (Xb.T.dot(yb - ypredicted)) + ((L2) * (weight**2)) \n",
        "            latest_bias = -(2/len(Xb))*np.sum(yb-ypredicted)\n",
        "            \n",
        "            weight = weight - lr * latest_weight\n",
        "            bias = bias - lr * latest_bias\n",
        "            \n",
        "            mse = np.mean((yb - ypredicted)**2)\n",
        "        \n",
        "          mean_squared_error_lt.append(mse)\n",
        "          step_num_lt.append(i)\n",
        "        \n",
        "          if mse < lowest_mse:\n",
        "            lowest_mse = mse\n",
        "            delay = 0\n",
        "          else:\n",
        "            delay += 1\n",
        "            \n",
        "          if delay == patience:\n",
        "            break\n",
        "          #print(weight)\n",
        "          #print(bias)\n",
        "          \n",
        "        return weight, bias, mse, mean_squared_error_lt, step_num_lt\n",
        "\n",
        "    def predict(self, X, weight, bias):\n",
        "        ypredicted = weight @ X + bias\n",
        "        return ypredicted\n",
        "\n",
        "    def score(self, X, y):\n",
        "        mse = np.mean((y - X)**2)\n",
        "        return mse\n",
        "\n",
        "    def plot_loss(self, mean_squared_error_lt, step_num_lt):\n",
        "        plt.figure(figsize=(12,10))\n",
        "        plt.plot(step_num_lt, mean_squared_error_lt)\n",
        "        plt.scatter(step_num_lt, mean_squared_error_lt, c='#2c7fb8', cmap='Blues')\n",
        "        plt.xlabel('Step Number')\n",
        "        plt.ylabel('Mean Squared Error')\n",
        "        plt.title('Scatter Plot of Step Number vs Mean Squared Error')\n",
        "        plt.show()"
      ],
      "metadata": {
        "id": "-E0Z16nqaN3I"
      },
      "execution_count": 187,
      "outputs": []
    },
    {
      "cell_type": "code",
      "source": [
        "X_train[0,:]"
      ],
      "metadata": {
        "colab": {
          "base_uri": "https://localhost:8080/"
        },
        "id": "wlOYehciJAAe",
        "outputId": "cc4f7e72-19c5-490c-c482-d0b0ee03b963"
      },
      "execution_count": 188,
      "outputs": [
        {
          "output_type": "execute_result",
          "data": {
            "text/plain": [
              "array([6.3, 3.3, 4.7, 1.6])"
            ]
          },
          "metadata": {},
          "execution_count": 188
        }
      ]
    },
    {
      "cell_type": "code",
      "source": [
        "features = data.feature_names\n",
        "features"
      ],
      "metadata": {
        "colab": {
          "base_uri": "https://localhost:8080/"
        },
        "id": "ptLw6TpzM67F",
        "outputId": "e53720b8-44f2-42aa-fd10-4cc153d9aaac"
      },
      "execution_count": 189,
      "outputs": [
        {
          "output_type": "execute_result",
          "data": {
            "text/plain": [
              "['sepal length (cm)',\n",
              " 'sepal width (cm)',\n",
              " 'petal length (cm)',\n",
              " 'petal width (cm)']"
            ]
          },
          "metadata": {},
          "execution_count": 189
        }
      ]
    },
    {
      "cell_type": "markdown",
      "source": [
        "Training the models\n"
      ],
      "metadata": {
        "id": "rpYzDY5c6NCC"
      }
    },
    {
      "cell_type": "markdown",
      "source": [
        "Model 1 with X : (sepal length,sepal width)\n",
        " Y : petal width\n"
      ],
      "metadata": {
        "id": "wVEsMUS0NEXH"
      }
    },
    {
      "cell_type": "code",
      "source": [
        "model1 = LinearRegression()\n",
        "weight1, bias1, mse1, mean_squared_error_lt1, step_num_lt1 = model1.fit(X_train[:,0:2], X_train[:,3])\n",
        "print(f\"Weight : {weight1}\")\n",
        "print(f\"Bias : {bias1}\")\n",
        "print(f\"MSE : {mse1}\")\n",
        "model1.plot_loss(mean_squared_error_lt1, step_num_lt1)"
      ],
      "metadata": {
        "colab": {
          "base_uri": "https://localhost:8080/",
          "height": 673
        },
        "id": "lXcAhELHBLWg",
        "outputId": "b149f79e-b333-4fc6-941b-46f7ae89a0f4"
      },
      "execution_count": 193,
      "outputs": [
        {
          "output_type": "stream",
          "name": "stdout",
          "text": [
            "Weight : [0.02923968 0.44319246]\n",
            "Bias : -0.17409831812302162\n",
            "MSE : 0.4653964072639342\n"
          ]
        },
        {
          "output_type": "display_data",
          "data": {
            "text/plain": [
              "<Figure size 864x720 with 1 Axes>"
            ],
            "image/png": "[encoded data removed]"
          },
          "metadata": {
            "needs_background": "light"
          }
        }
      ]
    },
    {
      "cell_type": "markdown",
      "source": [
        "Model 2 with X : (sepal length,sepal width, petal length ) Y : petal width"
      ],
      "metadata": {
        "id": "ckbDyyMzNrNT"
      }
    },
    {
      "cell_type": "code",
      "source": [
        "model2 = LinearRegression()\n",
        "weight2, bias2, mse2, mean_squared_error_lt2, step_num_lt2 = model2.fit(X_train[:,0:3], X_train[:,3])\n",
        "print(f\"Weight : {weight2}\")\n",
        "print(f\"Bias : {bias2}\")\n",
        "print(f\"MSE : {mse2}\")\n",
        "model2.plot_loss(mean_squared_error_lt2, step_num_lt2)"
      ],
      "metadata": {
        "colab": {
          "base_uri": "https://localhost:8080/",
          "height": 673
        },
        "id": "5mzYclxTNo_C",
        "outputId": "0b13904a-302a-4067-c471-0a29a1c66eb4"
      },
      "execution_count": 194,
      "outputs": [
        {
          "output_type": "stream",
          "name": "stdout",
          "text": [
            "Weight : [-0.14828059  0.36299539  0.32978627]\n",
            "Bias : -0.20225619775159362\n",
            "MSE : 0.23592253134788846\n"
          ]
        },
        {
          "output_type": "display_data",
          "data": {
            "text/plain": [
              "<Figure size 864x720 with 1 Axes>"
            ],
            "image/png": "[encoded data removed]"
          },
          "metadata": {
            "needs_background": "light"
          }
        }
      ]
    },
    {
      "cell_type": "markdown",
      "source": [
        "Model 3 with X : (petal length, sepal width) Y :sepal length"
      ],
      "metadata": {
        "id": "4SWV8JUKOt6J"
      }
    },
    {
      "cell_type": "code",
      "source": [
        "model3 = LinearRegression()\n",
        "weight3, bias3, mse3, mean_squared_error_lt3, step_num_lt3 = model3.fit(X_train[:,1:3], X_train[:,0])\n",
        "print(f\"Weight : {weight3}\")\n",
        "print(f\"Bias : {bias3}\")\n",
        "print(f\"MSE : {mse3}\")\n",
        "model3.plot_loss(mean_squared_error_lt3, step_num_lt3)"
      ],
      "metadata": {
        "colab": {
          "base_uri": "https://localhost:8080/",
          "height": 673
        },
        "id": "CsBXbPNPOtXg",
        "outputId": "847c6fae-d8a1-4757-985c-7279d68260ea"
      },
      "execution_count": 196,
      "outputs": [
        {
          "output_type": "stream",
          "name": "stdout",
          "text": [
            "Weight : [0.92129641 0.78591015]\n",
            "Bias : -0.027711615843126286\n",
            "MSE : 0.5274809858225509\n"
          ]
        },
        {
          "output_type": "display_data",
          "data": {
            "text/plain": [
              "<Figure size 864x720 with 1 Axes>"
            ],
            "image/png": "[encoded data removed]"
          },
          "metadata": {
            "needs_background": "light"
          }
        }
      ]
    },
    {
      "cell_type": "markdown",
      "source": [
        "Model 4 with X : (sepal width, petal length) Y : petal width"
      ],
      "metadata": {
        "id": "T_G7RLtFQKLN"
      }
    },
    {
      "cell_type": "code",
      "source": [
        "\n",
        "model4 = LinearRegression()\n",
        "weight4, bias4, mse4, mean_squared_error_lt4, step_num_lt4 = model4.fit(X_train[:,1:3], X_train[:,3])\n",
        "print(f\"Weight : {weight4}\")\n",
        "print(f\"Bias : {bias4}\")\n",
        "print(f\"MSE : {mse4}\")\n",
        "model4.plot_loss(mean_squared_error_lt4, step_num_lt4)"
      ],
      "metadata": {
        "colab": {
          "base_uri": "https://localhost:8080/",
          "height": 673
        },
        "id": "VGlB-yGcQj26",
        "outputId": "203c7c39-3594-4e20-93f1-bd407269bd02"
      },
      "execution_count": 197,
      "outputs": [
        {
          "output_type": "stream",
          "name": "stdout",
          "text": [
            "Weight : [0.28511356 0.19228327]\n",
            "Bias : -0.2284222982236804\n",
            "MSE : 0.40100443912508366\n"
          ]
        },
        {
          "output_type": "display_data",
          "data": {
            "text/plain": [
              "<Figure size 864x720 with 1 Axes>"
            ],
            "image/png": "[encoded data removed]"
          },
          "metadata": {
            "needs_background": "light"
          }
        }
      ]
    },
    {
      "cell_type": "markdown",
      "source": [
        "Linear Regression with L2 regularization - comparison with L2 regularization"
      ],
      "metadata": {
        "id": "m2Ihew6LtKPl"
      }
    },
    {
      "cell_type": "code",
      "source": [
        "model5 = LinearRegression()\n",
        "\n",
        "weight5, bias5, mse5, mean_squared_error_lt5, step_num_lt5 = model5.fitL2(X_train[:,0:3], X_train[:,3]) \n",
        "print(f\"Weight : {weight5}\")\n",
        "print(f\"Bias : {bias5}\")\n",
        "print(f\"MSE : {mse5}\")\n",
        "model5.plot_loss(mean_squared_error_lt5, step_num_lt5)"
      ],
      "metadata": {
        "id": "nbUH63FmaNzk",
        "colab": {
          "base_uri": "https://localhost:8080/",
          "height": 673
        },
        "outputId": "5f344dd1-f938-4e2f-b839-66de75f31227"
      },
      "execution_count": 198,
      "outputs": [
        {
          "output_type": "stream",
          "name": "stdout",
          "text": [
            "Weight : [-0.13588568  0.37574663  0.28760222]\n",
            "Bias : -0.19494488011151434\n",
            "MSE : 0.19854734994208714\n"
          ]
        },
        {
          "output_type": "display_data",
          "data": {
            "text/plain": [
              "<Figure size 864x720 with 1 Axes>"
            ],
            "image/png": "[encoded data removed]"
          },
          "metadata": {
            "needs_background": "light"
          }
        }
      ]
    },
    {
      "cell_type": "code",
      "source": [
        "#bias1"
      ],
      "metadata": {
        "colab": {
          "base_uri": "https://localhost:8080/"
        },
        "id": "Dl1F67zp-fqP",
        "outputId": "ea49cef8-7740-42cc-fef8-77764b3e3658"
      },
      "execution_count": 136,
      "outputs": [
        {
          "output_type": "execute_result",
          "data": {
            "text/plain": [
              "-0.17599551483031367"
            ]
          },
          "metadata": {},
          "execution_count": 136
        }
      ]
    },
    {
      "cell_type": "code",
      "source": [
        "#weight1 "
      ],
      "metadata": {
        "colab": {
          "base_uri": "https://localhost:8080/"
        },
        "id": "AyNfn6A--Yiq",
        "outputId": "27f3b19c-810b-43d5-8720-05c5579aa1aa"
      },
      "execution_count": 137,
      "outputs": [
        {
          "output_type": "execute_result",
          "data": {
            "text/plain": [
              "array([0.02783177, 0.42880516])"
            ]
          },
          "metadata": {},
          "execution_count": 137
        }
      ]
    },
    {
      "cell_type": "code",
      "source": [
        "#X_test[:,0:2][8]"
      ],
      "metadata": {
        "colab": {
          "base_uri": "https://localhost:8080/"
        },
        "id": "kYyybnSwIt6S",
        "outputId": "343dc586-fb34-4746-812e-27ea609fc431"
      },
      "execution_count": 138,
      "outputs": [
        {
          "output_type": "execute_result",
          "data": {
            "text/plain": [
              "array([6.2, 2.2])"
            ]
          },
          "metadata": {},
          "execution_count": 138
        }
      ]
    },
    {
      "cell_type": "markdown",
      "source": [
        "Testing the models"
      ],
      "metadata": {
        "id": "Lf358rrMOWvq"
      }
    },
    {
      "cell_type": "code",
      "source": [
        "\n",
        "pred1 = model1.predict(X_test[:,0:2][5],weight1,bias1)\n",
        "loss1 = model1.score(pred1, X_test[:,3][5])\n",
        "print(\"MSE : \", loss1)\n"
      ],
      "metadata": {
        "colab": {
          "base_uri": "https://localhost:8080/"
        },
        "id": "fV6tniv84qfk",
        "outputId": "00112462-8b8a-410f-c9f4-08de3242650f"
      },
      "execution_count": 199,
      "outputs": [
        {
          "output_type": "stream",
          "name": "stdout",
          "text": [
            "MSE :  1.1895181281953002\n"
          ]
        }
      ]
    },
    {
      "cell_type": "code",
      "source": [
        "pred2 = model2.predict(X_test[:,0:3][1],weight2,bias2)\n",
        "loss2 = model2.score(pred2, X_test[:,3][1])\n",
        "print(\"MSE : \", loss2)"
      ],
      "metadata": {
        "colab": {
          "base_uri": "https://localhost:8080/"
        },
        "id": "ajCKwk5mOfc8",
        "outputId": "a0d770f3-1f05-4404-c841-0b5b61d6e39a"
      },
      "execution_count": 200,
      "outputs": [
        {
          "output_type": "stream",
          "name": "stdout",
          "text": [
            "MSE :  0.3511316154615413\n"
          ]
        }
      ]
    },
    {
      "cell_type": "code",
      "source": [
        "pred3 = model3.predict(X_test[:,1:3][5],weight3,bias3)\n",
        "loss3 = model3.score(pred3, X_test[:,0][5])\n",
        "print(\"MSE : \", loss3)"
      ],
      "metadata": {
        "colab": {
          "base_uri": "https://localhost:8080/"
        },
        "id": "XX8AgFNROfIY",
        "outputId": "504ba735-a8f0-41fc-a235-62cfcef1e832"
      },
      "execution_count": 201,
      "outputs": [
        {
          "output_type": "stream",
          "name": "stdout",
          "text": [
            "MSE :  1.2464351371162394\n"
          ]
        }
      ]
    },
    {
      "cell_type": "code",
      "source": [
        "\n",
        "pred4 = model4.predict(X_test[:,1:3][5],weight4,bias4)\n",
        "loss4 = model4.score(pred4, X_test[:,3][5])\n",
        "print(\"MSE : \", loss4)"
      ],
      "metadata": {
        "colab": {
          "base_uri": "https://localhost:8080/"
        },
        "id": "guQfs04mOeRf",
        "outputId": "23933aab-cbce-43e5-fedb-5acc4ce2eae5"
      },
      "execution_count": 202,
      "outputs": [
        {
          "output_type": "stream",
          "name": "stdout",
          "text": [
            "MSE :  0.3961301458512545\n"
          ]
        }
      ]
    },
    {
      "cell_type": "code",
      "source": [
        "# L2 model\n",
        "pred5 = model5.predict(X_test[:,0:3][5],weight5,bias5)\n",
        "loss5 = model5.score(pred5, X_test[:,3][5])\n",
        "print(\"MSE : \", loss5)"
      ],
      "metadata": {
        "colab": {
          "base_uri": "https://localhost:8080/"
        },
        "id": "rVnKrKZvOdhk",
        "outputId": "1b97b3b1-1c1a-487d-a0b4-884da5bf874a"
      },
      "execution_count": 203,
      "outputs": [
        {
          "output_type": "stream",
          "name": "stdout",
          "text": [
            "MSE :  0.14456292879331198\n"
          ]
        }
      ]
    },
    {
      "cell_type": "code",
      "source": [],
      "metadata": {
        "id": "TBRWIS51d_zX"
      },
      "execution_count": 203,
      "outputs": []
    },
    {
      "cell_type": "markdown",
      "source": [
        "Part 3"
      ],
      "metadata": {
        "id": "Kt7QA8uB7BlR"
      }
    },
    {
      "cell_type": "code",
      "source": [
        "import numpy as np\n",
        "import pandas as pd\n",
        "import scipy.io as sio\n",
        "from sklearn.linear_model import LinearRegression\n",
        "\n",
        "data_path = '/content/traffic_dataset.mat'\n",
        "\n",
        "mat = sio.loadmat(data_path)\n",
        "input_train = mat['tra_X_tr']\n",
        "output_train = mat['tra_Y_tr'].T\n",
        "input_test = mat['tra_X_te']\n",
        "output_test = mat['tra_Y_te'].T\n",
        "adj_mat = mat['tra_adj_mat']\n",
        "\n",
        "input_train = input_train.squeeze()\n",
        "input_test = input_test.squeeze()\n",
        "\n",
        "# Convert the sparse matrix to a dense matrix\n",
        "data = []\n",
        "test_data = []\n",
        "\n",
        "for i in range(input_train.shape[0]):\n",
        "    data.append(input_train[i].todense())\n",
        "\n",
        "for i in range(input_test.shape[0]):\n",
        "    test_data.append(input_test[i].todense())\n",
        "\n",
        "# Convert the data to a numpy array\n",
        "data = np.array(data)\n",
        "test_data = np.array(test_data)\n",
        "\n",
        "print(data.shape)\n",
        "print(output_train.shape)\n",
        "#print(data)\n",
        "\n",
        "X_train = pd.concat([pd.DataFrame(matrix, columns=[\"Feature \" + str(i) for i in range(48)]) for matrix in data], ignore_index=True)\n",
        "X_train[\"LocName\"] = [f\"Location{i+1}\" for i in range(36) for _ in range(data.shape[0])]\n",
        "\n",
        "Y_train = np.concatenate(output_train)\n",
        "X_train['Target'] = Y_train\n",
        "\n",
        "\n",
        "test_X = pd.concat([pd.DataFrame(test_data[i]) for i in range(test_data.shape[0])])\n",
        "location_names = [\"Location\" + str(i) for i in range(1, 37)]\n",
        "test_X.insert(0, 'LocationNumbers', np.repeat(location_names, test_data.shape[0]))\n",
        "\n",
        "test_Y = output_test.flatten()\n",
        "test_X.insert(0, 'Target', test_Y)\n",
        "\n"
      ],
      "metadata": {
        "id": "A87XtgcsaNuE",
        "colab": {
          "base_uri": "https://localhost:8080/"
        },
        "outputId": "c9bd31d5-2700-4433-a6c9-80a5cc29b6cb"
      },
      "execution_count": 212,
      "outputs": [
        {
          "output_type": "stream",
          "name": "stdout",
          "text": [
            "(1261, 36, 48)\n",
            "(1261, 36)\n"
          ]
        }
      ]
    },
    {
      "cell_type": "markdown",
      "source": [
        "Visualize the data\n"
      ],
      "metadata": {
        "id": "H3hckuxn5wyM"
      }
    },
    {
      "cell_type": "code",
      "source": [
        "X_train"
      ],
      "metadata": {
        "colab": {
          "base_uri": "https://localhost:8080/",
          "height": 505
        },
        "id": "ifgD7kZs52Rd",
        "outputId": "4561ee44-c858-4725-8387-207307f8ad35"
      },
      "execution_count": 215,
      "outputs": [
        {
          "output_type": "execute_result",
          "data": {
            "text/plain": [
              "       Feature 0  Feature 1  Feature 2  Feature 3  Feature 4  Feature 5  \\\n",
              "0       0.092480   0.096684   0.070061   0.065857   0.078468   0.071462   \n",
              "1       0.097151   0.102289   0.081738   0.076600   0.072396   0.067725   \n",
              "2       0.115367   0.110696   0.105558   0.095283   0.067725   0.080336   \n",
              "3       0.112097   0.102756   0.092013   0.083606   0.062121   0.070995   \n",
              "4       0.127043   0.150864   0.131714   0.106025   0.099019   0.090612   \n",
              "...          ...        ...        ...        ...        ...        ...   \n",
              "45391   0.037366   0.036432   0.031761   0.029426   0.035497   0.066791   \n",
              "45392   0.006539   0.003270   0.002802   0.006539   0.006539   0.002335   \n",
              "45393   0.034096   0.025689   0.031761   0.026156   0.026623   0.036432   \n",
              "45394   0.043905   0.041102   0.047641   0.033162   0.037366   0.055114   \n",
              "45395   0.070061   0.074264   0.107894   0.132181   0.156002   0.234470   \n",
              "\n",
              "       Feature 6  Feature 7  Feature 8  Feature 9  ...  Feature 40  \\\n",
              "0       0.054180   0.044372   0.054647   0.050911  ...         1.0   \n",
              "1       0.058851   0.066324   0.059785   0.056983  ...         1.0   \n",
              "2       0.062588   0.061653   0.055582   0.061653  ...         1.0   \n",
              "3       0.053713   0.062588   0.053713   0.066791  ...         1.0   \n",
              "4       0.069127   0.060719   0.060719   0.067258  ...         1.0   \n",
              "...          ...        ...        ...        ...  ...         ...   \n",
              "45391   0.070061   0.093414   0.092947   0.141523  ...         0.0   \n",
              "45392   0.009809   0.014012   0.015880   0.021952  ...         0.0   \n",
              "45393   0.053246   0.059785   0.075666   0.103223  ...         0.0   \n",
              "45394   0.074264   0.082672   0.111630   0.157870  ...         0.0   \n",
              "45395   0.334890   0.442317   0.659972   0.910322  ...         0.0   \n",
              "\n",
              "       Feature 41  Feature 42  Feature 43  Feature 44  Feature 45  Feature 46  \\\n",
              "0             0.0         0.0         0.0         1.0         0.0         0.0   \n",
              "1             0.0         0.0         0.0         1.0         0.0         0.0   \n",
              "2             0.0         0.0         0.0         1.0         0.0         0.0   \n",
              "3             0.0         0.0         0.0         1.0         0.0         0.0   \n",
              "4             0.0         0.0         0.0         0.0         1.0         0.0   \n",
              "...           ...         ...         ...         ...         ...         ...   \n",
              "45391         0.0         0.0         1.0         0.0         0.0         0.0   \n",
              "45392         0.0         0.0         1.0         0.0         0.0         0.0   \n",
              "45393         0.0         0.0         1.0         0.0         0.0         0.0   \n",
              "45394         0.0         0.0         1.0         0.0         0.0         0.0   \n",
              "45395         0.0         0.0         1.0         0.0         0.0         1.0   \n",
              "\n",
              "       Feature 47     LocName    Target  \n",
              "0             0.0   Location1  0.050911  \n",
              "1             0.0   Location1  0.046240  \n",
              "2             0.0   Location1  0.050444  \n",
              "3             0.0   Location1  0.044839  \n",
              "4             0.0   Location1  0.044839  \n",
              "...           ...         ...       ...  \n",
              "45391         1.0  Location36  0.184026  \n",
              "45392         1.0  Location36  0.043438  \n",
              "45393         1.0  Location36  0.142457  \n",
              "45394         1.0  Location36  0.210649  \n",
              "45395         0.0  Location36  0.838393  \n",
              "\n",
              "[45396 rows x 50 columns]"
            ],
            "text/html": [
              "\n",
              "  <div id=\"df-0f7467fb-0eb6-480a-85ef-49780be4313e\">\n",
              "    <div class=\"colab-df-container\">\n",
              "      <div>\n",
              "<style scoped>\n",
              "    .dataframe tbody tr th:only-of-type {\n",
              "        vertical-align: middle;\n",
              "    }\n",
              "\n",
              "    .dataframe tbody tr th {\n",
              "        vertical-align: top;\n",
              "    }\n",
              "\n",
              "    .dataframe thead th {\n",
              "        text-align: right;\n",
              "    }\n",
              "</style>\n",
              "<table border=\"1\" class=\"dataframe\">\n",
              "  <thead>\n",
              "    <tr style=\"text-align: right;\">\n",
              "      <th></th>\n",
              "      <th>Feature 0</th>\n",
              "      <th>Feature 1</th>\n",
              "      <th>Feature 2</th>\n",
              "      <th>Feature 3</th>\n",
              "      <th>Feature 4</th>\n",
              "      <th>Feature 5</th>\n",
              "      <th>Feature 6</th>\n",
              "      <th>Feature 7</th>\n",
              "      <th>Feature 8</th>\n",
              "      <th>Feature 9</th>\n",
              "      <th>...</th>\n",
              "      <th>Feature 40</th>\n",
              "      <th>Feature 41</th>\n",
              "      <th>Feature 42</th>\n",
              "      <th>Feature 43</th>\n",
              "      <th>Feature 44</th>\n",
              "      <th>Feature 45</th>\n",
              "      <th>Feature 46</th>\n",
              "      <th>Feature 47</th>\n",
              "      <th>LocName</th>\n",
              "      <th>Target</th>\n",
              "    </tr>\n",
              "  </thead>\n",
              "  <tbody>\n",
              "    <tr>\n",
              "      <th>0</th>\n",
              "      <td>0.092480</td>\n",
              "      <td>0.096684</td>\n",
              "      <td>0.070061</td>\n",
              "      <td>0.065857</td>\n",
              "      <td>0.078468</td>\n",
              "      <td>0.071462</td>\n",
              "      <td>0.054180</td>\n",
              "      <td>0.044372</td>\n",
              "      <td>0.054647</td>\n",
              "      <td>0.050911</td>\n",
              "      <td>...</td>\n",
              "      <td>1.0</td>\n",
              "      <td>0.0</td>\n",
              "      <td>0.0</td>\n",
              "      <td>0.0</td>\n",
              "      <td>1.0</td>\n",
              "      <td>0.0</td>\n",
              "      <td>0.0</td>\n",
              "      <td>0.0</td>\n",
              "      <td>Location1</td>\n",
              "      <td>0.050911</td>\n",
              "    </tr>\n",
              "    <tr>\n",
              "      <th>1</th>\n",
              "      <td>0.097151</td>\n",
              "      <td>0.102289</td>\n",
              "      <td>0.081738</td>\n",
              "      <td>0.076600</td>\n",
              "      <td>0.072396</td>\n",
              "      <td>0.067725</td>\n",
              "      <td>0.058851</td>\n",
              "      <td>0.066324</td>\n",
              "      <td>0.059785</td>\n",
              "      <td>0.056983</td>\n",
              "      <td>...</td>\n",
              "      <td>1.0</td>\n",
              "      <td>0.0</td>\n",
              "      <td>0.0</td>\n",
              "      <td>0.0</td>\n",
              "      <td>1.0</td>\n",
              "      <td>0.0</td>\n",
              "      <td>0.0</td>\n",
              "      <td>0.0</td>\n",
              "      <td>Location1</td>\n",
              "      <td>0.046240</td>\n",
              "    </tr>\n",
              "    <tr>\n",
              "      <th>2</th>\n",
              "      <td>0.115367</td>\n",
              "      <td>0.110696</td>\n",
              "      <td>0.105558</td>\n",
              "      <td>0.095283</td>\n",
              "      <td>0.067725</td>\n",
              "      <td>0.080336</td>\n",
              "      <td>0.062588</td>\n",
              "      <td>0.061653</td>\n",
              "      <td>0.055582</td>\n",
              "      <td>0.061653</td>\n",
              "      <td>...</td>\n",
              "      <td>1.0</td>\n",
              "      <td>0.0</td>\n",
              "      <td>0.0</td>\n",
              "      <td>0.0</td>\n",
              "      <td>1.0</td>\n",
              "      <td>0.0</td>\n",
              "      <td>0.0</td>\n",
              "      <td>0.0</td>\n",
              "      <td>Location1</td>\n",
              "      <td>0.050444</td>\n",
              "    </tr>\n",
              "    <tr>\n",
              "      <th>3</th>\n",
              "      <td>0.112097</td>\n",
              "      <td>0.102756</td>\n",
              "      <td>0.092013</td>\n",
              "      <td>0.083606</td>\n",
              "      <td>0.062121</td>\n",
              "      <td>0.070995</td>\n",
              "      <td>0.053713</td>\n",
              "      <td>0.062588</td>\n",
              "      <td>0.053713</td>\n",
              "      <td>0.066791</td>\n",
              "      <td>...</td>\n",
              "      <td>1.0</td>\n",
              "      <td>0.0</td>\n",
              "      <td>0.0</td>\n",
              "      <td>0.0</td>\n",
              "      <td>1.0</td>\n",
              "      <td>0.0</td>\n",
              "      <td>0.0</td>\n",
              "      <td>0.0</td>\n",
              "      <td>Location1</td>\n",
              "      <td>0.044839</td>\n",
              "    </tr>\n",
              "    <tr>\n",
              "      <th>4</th>\n",
              "      <td>0.127043</td>\n",
              "      <td>0.150864</td>\n",
              "      <td>0.131714</td>\n",
              "      <td>0.106025</td>\n",
              "      <td>0.099019</td>\n",
              "      <td>0.090612</td>\n",
              "      <td>0.069127</td>\n",
              "      <td>0.060719</td>\n",
              "      <td>0.060719</td>\n",
              "      <td>0.067258</td>\n",
              "      <td>...</td>\n",
              "      <td>1.0</td>\n",
              "      <td>0.0</td>\n",
              "      <td>0.0</td>\n",
              "      <td>0.0</td>\n",
              "      <td>0.0</td>\n",
              "      <td>1.0</td>\n",
              "      <td>0.0</td>\n",
              "      <td>0.0</td>\n",
              "      <td>Location1</td>\n",
              "      <td>0.044839</td>\n",
              "    </tr>\n",
              "    <tr>\n",
              "      <th>...</th>\n",
              "      <td>...</td>\n",
              "      <td>...</td>\n",
              "      <td>...</td>\n",
              "      <td>...</td>\n",
              "      <td>...</td>\n",
              "      <td>...</td>\n",
              "      <td>...</td>\n",
              "      <td>...</td>\n",
              "      <td>...</td>\n",
              "      <td>...</td>\n",
              "      <td>...</td>\n",
              "      <td>...</td>\n",
              "      <td>...</td>\n",
              "      <td>...</td>\n",
              "      <td>...</td>\n",
              "      <td>...</td>\n",
              "      <td>...</td>\n",
              "      <td>...</td>\n",
              "      <td>...</td>\n",
              "      <td>...</td>\n",
              "      <td>...</td>\n",
              "    </tr>\n",
              "    <tr>\n",
              "      <th>45391</th>\n",
              "      <td>0.037366</td>\n",
              "      <td>0.036432</td>\n",
              "      <td>0.031761</td>\n",
              "      <td>0.029426</td>\n",
              "      <td>0.035497</td>\n",
              "      <td>0.066791</td>\n",
              "      <td>0.070061</td>\n",
              "      <td>0.093414</td>\n",
              "      <td>0.092947</td>\n",
              "      <td>0.141523</td>\n",
              "      <td>...</td>\n",
              "      <td>0.0</td>\n",
              "      <td>0.0</td>\n",
              "      <td>0.0</td>\n",
              "      <td>1.0</td>\n",
              "      <td>0.0</td>\n",
              "      <td>0.0</td>\n",
              "      <td>0.0</td>\n",
              "      <td>1.0</td>\n",
              "      <td>Location36</td>\n",
              "      <td>0.184026</td>\n",
              "    </tr>\n",
              "    <tr>\n",
              "      <th>45392</th>\n",
              "      <td>0.006539</td>\n",
              "      <td>0.003270</td>\n",
              "      <td>0.002802</td>\n",
              "      <td>0.006539</td>\n",
              "      <td>0.006539</td>\n",
              "      <td>0.002335</td>\n",
              "      <td>0.009809</td>\n",
              "      <td>0.014012</td>\n",
              "      <td>0.015880</td>\n",
              "      <td>0.021952</td>\n",
              "      <td>...</td>\n",
              "      <td>0.0</td>\n",
              "      <td>0.0</td>\n",
              "      <td>0.0</td>\n",
              "      <td>1.0</td>\n",
              "      <td>0.0</td>\n",
              "      <td>0.0</td>\n",
              "      <td>0.0</td>\n",
              "      <td>1.0</td>\n",
              "      <td>Location36</td>\n",
              "      <td>0.043438</td>\n",
              "    </tr>\n",
              "    <tr>\n",
              "      <th>45393</th>\n",
              "      <td>0.034096</td>\n",
              "      <td>0.025689</td>\n",
              "      <td>0.031761</td>\n",
              "      <td>0.026156</td>\n",
              "      <td>0.026623</td>\n",
              "      <td>0.036432</td>\n",
              "      <td>0.053246</td>\n",
              "      <td>0.059785</td>\n",
              "      <td>0.075666</td>\n",
              "      <td>0.103223</td>\n",
              "      <td>...</td>\n",
              "      <td>0.0</td>\n",
              "      <td>0.0</td>\n",
              "      <td>0.0</td>\n",
              "      <td>1.0</td>\n",
              "      <td>0.0</td>\n",
              "      <td>0.0</td>\n",
              "      <td>0.0</td>\n",
              "      <td>1.0</td>\n",
              "      <td>Location36</td>\n",
              "      <td>0.142457</td>\n",
              "    </tr>\n",
              "    <tr>\n",
              "      <th>45394</th>\n",
              "      <td>0.043905</td>\n",
              "      <td>0.041102</td>\n",
              "      <td>0.047641</td>\n",
              "      <td>0.033162</td>\n",
              "      <td>0.037366</td>\n",
              "      <td>0.055114</td>\n",
              "      <td>0.074264</td>\n",
              "      <td>0.082672</td>\n",
              "      <td>0.111630</td>\n",
              "      <td>0.157870</td>\n",
              "      <td>...</td>\n",
              "      <td>0.0</td>\n",
              "      <td>0.0</td>\n",
              "      <td>0.0</td>\n",
              "      <td>1.0</td>\n",
              "      <td>0.0</td>\n",
              "      <td>0.0</td>\n",
              "      <td>0.0</td>\n",
              "      <td>1.0</td>\n",
              "      <td>Location36</td>\n",
              "      <td>0.210649</td>\n",
              "    </tr>\n",
              "    <tr>\n",
              "      <th>45395</th>\n",
              "      <td>0.070061</td>\n",
              "      <td>0.074264</td>\n",
              "      <td>0.107894</td>\n",
              "      <td>0.132181</td>\n",
              "      <td>0.156002</td>\n",
              "      <td>0.234470</td>\n",
              "      <td>0.334890</td>\n",
              "      <td>0.442317</td>\n",
              "      <td>0.659972</td>\n",
              "      <td>0.910322</td>\n",
              "      <td>...</td>\n",
              "      <td>0.0</td>\n",
              "      <td>0.0</td>\n",
              "      <td>0.0</td>\n",
              "      <td>1.0</td>\n",
              "      <td>0.0</td>\n",
              "      <td>0.0</td>\n",
              "      <td>1.0</td>\n",
              "      <td>0.0</td>\n",
              "      <td>Location36</td>\n",
              "      <td>0.838393</td>\n",
              "    </tr>\n",
              "  </tbody>\n",
              "</table>\n",
              "<p>45396 rows × 50 columns</p>\n",
              "</div>\n",
              "      <button class=\"colab-df-convert\" onclick=\"convertToInteractive('df-0f7467fb-0eb6-480a-85ef-49780be4313e')\"\n",
              "              title=\"Convert this dataframe to an interactive table.\"\n",
              "              style=\"display:none;\">\n",
              "        \n",
              "  <svg xmlns=\"http://www.w3.org/2000/svg\" height=\"24px\"viewBox=\"0 0 24 24\"\n",
              "       width=\"24px\">\n",
              "    <path d=\"M0 0h24v24H0V0z\" fill=\"none\"/>\n",
              "    <path d=\"M18.56 5.44l.94 2.06.94-2.06 2.06-.94-2.06-.94-.94-2.06-.94 2.06-2.06.94zm-11 1L8.5 8.5l.94-2.06 2.06-.94-2.06-.94L8.5 2.5l-.94 2.06-2.06.94zm10 10l.94 2.06.94-2.06 2.06-.94-2.06-.94-.94-2.06-.94 2.06-2.06.94z\"/><path d=\"M17.41 7.96l-1.37-1.37c-.4-.4-.92-.59-1.43-.59-.52 0-1.04.2-1.43.59L10.3 9.45l-7.72 7.72c-.78.78-.78 2.05 0 2.83L4 21.41c.39.39.9.59 1.41.59.51 0 1.02-.2 1.41-.59l7.78-7.78 2.81-2.81c.8-.78.8-2.07 0-2.86zM5.41 20L4 18.59l7.72-7.72 1.47 1.35L5.41 20z\"/>\n",
              "  </svg>\n",
              "      </button>\n",
              "      \n",
              "  <style>\n",
              "    .colab-df-container {\n",
              "      display:flex;\n",
              "      flex-wrap:wrap;\n",
              "      gap: 12px;\n",
              "    }\n",
              "\n",
              "    .colab-df-convert {\n",
              "      background-color: #E8F0FE;\n",
              "      border: none;\n",
              "      border-radius: 50%;\n",
              "      cursor: pointer;\n",
              "      display: none;\n",
              "      fill: #1967D2;\n",
              "      height: 32px;\n",
              "      padding: 0 0 0 0;\n",
              "      width: 32px;\n",
              "    }\n",
              "\n",
              "    .colab-df-convert:hover {\n",
              "      background-color: #E2EBFA;\n",
              "      box-shadow: 0px 1px 2px rgba(60, 64, 67, 0.3), 0px 1px 3px 1px rgba(60, 64, 67, 0.15);\n",
              "      fill: #174EA6;\n",
              "    }\n",
              "\n",
              "    [theme=dark] .colab-df-convert {\n",
              "      background-color: #3B4455;\n",
              "      fill: #D2E3FC;\n",
              "    }\n",
              "\n",
              "    [theme=dark] .colab-df-convert:hover {\n",
              "      background-color: #434B5C;\n",
              "      box-shadow: 0px 1px 3px 1px rgba(0, 0, 0, 0.15);\n",
              "      filter: drop-shadow(0px 1px 2px rgba(0, 0, 0, 0.3));\n",
              "      fill: #FFFFFF;\n",
              "    }\n",
              "  </style>\n",
              "\n",
              "      <script>\n",
              "        const buttonEl =\n",
              "          document.querySelector('#df-0f7467fb-0eb6-480a-85ef-49780be4313e button.colab-df-convert');\n",
              "        buttonEl.style.display =\n",
              "          google.colab.kernel.accessAllowed ? 'block' : 'none';\n",
              "\n",
              "        async function convertToInteractive(key) {\n",
              "          const element = document.querySelector('#df-0f7467fb-0eb6-480a-85ef-49780be4313e');\n",
              "          const dataTable =\n",
              "            await google.colab.kernel.invokeFunction('convertToInteractive',\n",
              "                                                     [key], {});\n",
              "          if (!dataTable) return;\n",
              "\n",
              "          const docLinkHtml = 'Like what you see? Visit the ' +\n",
              "            '<a target=\"_blank\" href=https://colab.research.google.com/notebooks/data_table.ipynb>data table notebook</a>'\n",
              "            + ' to learn more about interactive tables.';\n",
              "          element.innerHTML = '';\n",
              "          dataTable['output_type'] = 'display_data';\n",
              "          await google.colab.output.renderOutput(dataTable, element);\n",
              "          const docLink = document.createElement('div');\n",
              "          docLink.innerHTML = docLinkHtml;\n",
              "          element.appendChild(docLink);\n",
              "        }\n",
              "      </script>\n",
              "    </div>\n",
              "  </div>\n",
              "  "
            ]
          },
          "metadata": {},
          "execution_count": 215
        }
      ]
    },
    {
      "cell_type": "code",
      "source": [
        "Y_train"
      ],
      "metadata": {
        "colab": {
          "base_uri": "https://localhost:8080/"
        },
        "id": "uCRyfe7a5-aG",
        "outputId": "5df4c4c4-6937-42e5-8215-9fdb4522ed7d"
      },
      "execution_count": 216,
      "outputs": [
        {
          "output_type": "execute_result",
          "data": {
            "text/plain": [
              "array([0.05091079, 0.04624007, 0.05044372, ..., 0.1424568 , 0.21064923,\n",
              "       0.83839327])"
            ]
          },
          "metadata": {},
          "execution_count": 216
        }
      ]
    },
    {
      "cell_type": "code",
      "source": [
        "modelTraffic = LinearRegression()\n",
        "#weight6, bias6, mse6, mean_squared_error_lt6, step_num_lt6 = modelTraffic.fit(X_train,Y_train) \n",
        "print(f\"Weight : {weight5}\")\n",
        "print(f\"Bias : {bias5}\")\n",
        "print(f\"MSE : {mse5}\")\n",
        "#model5.plot_loss(mean_squared_error_lt5, step_num_lt5)\n"
      ],
      "metadata": {
        "colab": {
          "base_uri": "https://localhost:8080/"
        },
        "id": "qOSURMS8BT5E",
        "outputId": "d96e1673-0357-41af-8c55-ce4a66af476f"
      },
      "execution_count": 213,
      "outputs": [
        {
          "output_type": "stream",
          "name": "stdout",
          "text": [
            "Weight : [-0.13588568  0.37574663  0.28760222]\n",
            "Bias : -0.19494488011151434\n",
            "MSE : 0.19854734994208714\n"
          ]
        }
      ]
    },
    {
      "cell_type": "code",
      "source": [],
      "metadata": {
        "id": "8JtXY6beJB2J"
      },
      "execution_count": null,
      "outputs": []
    }
  ]
}