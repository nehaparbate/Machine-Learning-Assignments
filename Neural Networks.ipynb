{
 "cells": [
  {
   "cell_type": "code",
   "execution_count": 1,
   "metadata": {},
   "outputs": [],
   "source": [
    "import pickle\n",
    "import numpy as np\n",
    "from sklearn.model_selection import train_test_split\n",
    "from sklearn.metrics import accuracy_score\n",
    "import matplotlib.pyplot as plt\n"
   ]
  },
  {
   "cell_type": "code",
   "execution_count": 2,
   "metadata": {},
   "outputs": [],
   "source": [
    "class Layer:\n",
    "    def __init__(self):\n",
    "        self.input = None\n",
    "        self.output = None\n",
    "\n",
    "    def forward_pass_propgation(self, input):\n",
    "        raise NotImplementedError(\"Subclasses must implement forward_pass_propgation() method.\")\n",
    "\n",
    "    def backward_pass_propgation(self, output_error, learning_rate):\n",
    "        raise NotImplementedError(\"Subclasses must implement backward_pass_propgation() method.\")"
   ]
  },
  {
   "cell_type": "code",
   "execution_count": 3,
   "metadata": {},
   "outputs": [],
   "source": [
    "class Linear_Layer(Layer):\n",
    "    def __init__(self, num_input_features, num_output_features):\n",
    "        super().__init__()\n",
    "        self.weights = np.random.randn(num_input_features, num_output_features) / np.sqrt(num_input_features)\n",
    "        self.bias = np.random.rand(1, num_output_features) - 0.5\n",
    "\n",
    "    def forward_pass_propgation(self, input_data):\n",
    "        self.input = input_data\n",
    "        z = np.matmul(input_data, self.weights) \n",
    "        self.output = np.add(z, self.bias) \n",
    "        return self.output\n",
    "    \n",
    "    def backward_pass_propgation(self, error_output_loss, lr):\n",
    "        error_input_loss = np.matmul(error_output_loss, self.weights.T)\n",
    "\n",
    "        wt_gradient = np.matmul(self.input.T, error_output_loss)\n",
    "        b_gradient = np.sum(error_output_loss, axis=0, keepdims=True)\n",
    "\n",
    "        self.weights -= lr * wt_gradient\n",
    "        self.bias -= lr * b_gradient\n",
    "\n",
    "        return error_input_loss\n",
    "\n",
    "    def weights(self):\n",
    "        print(self.weights)"
   ]
  },
  {
   "cell_type": "code",
   "execution_count": 4,
   "metadata": {},
   "outputs": [],
   "source": [
    "class Sigmoid_Activation_Function(Layer):\n",
    "    def __init__(self):\n",
    "        self.outputs = None\n",
    "\n",
    "    def forward_pass_propgation(self, inputs):\n",
    "        self.outputs = self.sigmoid(inputs)\n",
    "        return self.outputs\n",
    "\n",
    "    def backward_pass_propgation(self, delta):\n",
    "        gradient_output = np.multiply(self.outputs, np.subtract(1, self.outputs))\n",
    "        return np.multiply(gradient_output, delta)\n",
    "\n",
    "    def sigmoid(self, x):\n",
    "        return 1 / (1 + np.exp(-x))"
   ]
  },
  {
   "cell_type": "code",
   "execution_count": 5,
   "metadata": {},
   "outputs": [],
   "source": [
    "class Activation_Function_Layer(Layer):\n",
    "    def __init__(self, activation_state, activation_sensitivity):\n",
    "        self.activation_state = activation_state\n",
    "        self.activation_sensitivity = activation_sensitivity\n",
    "\n",
    "    def forward_pass_propgation(self, input):\n",
    "        self.input = input\n",
    "        self.output = self.activation_state(self.input)\n",
    "        return self.output\n",
    "\n",
    "    def backward_pass_propgation(self, output_loss, lr):\n",
    "        return self.activation_sensitivity(self.input) * output_loss\n"
   ]
  },
  {
   "cell_type": "code",
   "execution_count": 6,
   "metadata": {},
   "outputs": [],
   "source": [
    "def calculateMeanSquaredError(targets, predictions):\n",
    "    squared_errors = (targets - predictions) ** 2\n",
    "    return np.mean(squared_errors)\n",
    "\n",
    "def calculateMSEGradient(targets, predictions):\n",
    "    residuals = predictions - targets\n",
    "    gradient = 2 * residuals / len(targets)\n",
    "    return gradient\n"
   ]
  },
  {
   "cell_type": "code",
   "execution_count": 7,
   "metadata": {},
   "outputs": [],
   "source": [
    "class Tanh_Activation_Function(Layer):\n",
    "    def __init__(self):\n",
    "        self.outputs = None\n",
    "\n",
    "    def forward_pass_propgation(self, input_values):\n",
    "        return np.tanh(input_values)\n",
    "\n",
    "    def backward_pass_propgation(self, delta):\n",
    "        return 1-np.tanh(delta)**2\n"
   ]
  },
  {
   "cell_type": "code",
   "execution_count": 8,
   "metadata": {},
   "outputs": [],
   "source": [
    "#Softmax Function\n",
    "class Softmax_Activation_Function(Layer):\n",
    "    def __init__(self):\n",
    "        self.exp_inputs = None\n",
    "        self.num_classes = None\n",
    "        self.output = None\n",
    "\n",
    "    def forward_pass_propgation(self, input_values):\n",
    "        self.exp_inputs = np.exp(input_values - np.max(input_values))\n",
    "        softmax_outputs = self.exp_inputs / np.sum(self.exp_inputs, axis=0, keepdims=True)\n",
    "        return softmax_outputs\n",
    "\n",
    "    def backward_pass_propgation(self, softmax_outputs, error_gradients):\n",
    "        self.output = np.empty(softmax_outputs.shape)\n",
    "        self.num_classes = softmax_outputs.shape[1]\n",
    "        \n",
    "        for cl_id in range(self.num_classes):\n",
    "            jac = -(softmax_outputs * softmax_outputs[:, [cl_id]])\n",
    "            jac[:, cl_id] += softmax_outputs[:, cl_id]\n",
    "            self.output[:, cl_id] = np.sum(error_gradients * jac, axis=1)\n",
    "        return self.output"
   ]
  },
  {
   "cell_type": "code",
   "execution_count": 9,
   "metadata": {},
   "outputs": [],
   "source": [
    "def softmax(H):\n",
    "    H = np.exp(H) / sum(np.exp(H))\n",
    "    return H"
   ]
  },
  {
   "cell_type": "code",
   "execution_count": 10,
   "metadata": {},
   "outputs": [],
   "source": [
    "class Cross_Entropy(Layer):\n",
    "    def __init__(self):\n",
    "        self.penalty = None\n",
    "        \n",
    "    def forward_pass_propgation(self, predictions, targets):\n",
    "        self.penalty = -targets * np.log(predictions)\n",
    "        return self.penalty\n",
    "            \n",
    "    def backward_pass_propgation(self, predictions, targets):\n",
    "        error_gradients = targets - predictions\n",
    "        return error_gradients\n"
   ]
  },
  {
   "cell_type": "code",
   "execution_count": 11,
   "metadata": {},
   "outputs": [],
   "source": [
    "class Sequential(Layer):\n",
    "    def __init__(self):\n",
    "        self.layers_list = []\n",
    "        self.loss_function = None\n",
    "        self.loss_gradient_tensor = None\n",
    "        self.weights_tensor = None\n",
    "\n",
    "    def savingModel(self, file=\"NN_model.wts\"):\n",
    "      f = open(file, mode=\"wb\")\n",
    "      pickle.dump(self.retrieveModelWeights(), f)\n",
    "      f.close()\n",
    "\n",
    "    def loadingModel(self, file=\"NN_model.wts\"):\n",
    "        f = open(file, mode=\"rb\")\n",
    "        weights = pickle.load(f)\n",
    "        f.close()\n",
    "        return weights    \n",
    "\n",
    "    def applyLossFunction(self, loss_function, loss_gradient_tensor):\n",
    "        self.loss_function = loss_function\n",
    "        self.loss_gradient_tensor = loss_gradient_tensor    \n",
    "    \n",
    "    def add(self, layer):\n",
    "        self.layers_list.append(layer)\n",
    "\n",
    "    def model_predict(self, InputData):\n",
    "        neural_depth = len(InputData) \n",
    "        observed_predicted_results = []\n",
    "        for i in range(neural_depth):\n",
    "            neural_output = InputData[i]\n",
    "            for layer in self.layers_list:\n",
    "                neural_output = layer.forward_pass_propgation(neural_output)\n",
    "            observed_predicted_results.append(neural_output) \n",
    "        return observed_predicted_results\n",
    "\n",
    "    def predict(self, input_data):\n",
    "        num_inputs = len(input_data)\n",
    "        pred_result = []\n",
    "        for i in range(num_inputs):\n",
    "            output = input_data[i]\n",
    "            for layer in self.layers_list:\n",
    "                output = layer.forward_pass_propgation(output)\n",
    "            pred_result.append(output)\n",
    "        return pred_result\n",
    "    \n",
    "    def fit(self, x_train, y_train, epochs, lr):\n",
    "        s_data_values = len(x_train)\n",
    "        loss_list_model=[]\n",
    "        for i in range(epochs):\n",
    "            _err_total = 0\n",
    "            for j in range(s_data_values):\n",
    "                o_p = x_train[j]\n",
    "                for l in self.layers_list:\n",
    "                    o_p = l.forward_pass_propgation(o_p)\n",
    "\n",
    "                _err_total = _err_total + self.loss_function(y_train[j], o_p)\n",
    "\n",
    "                _err = self.loss_gradient_tensor(y_train[j], o_p)\n",
    "                for l in reversed(self.layers_list):\n",
    "                    _err = l.backward_pass_propgation(_err, lr)\n",
    "\n",
    "            _err_total = _err_total / s_data_values\n",
    "            loss_list_model.append(_err_total)\n",
    "            if i % 5 == 0:\n",
    "              print('Epoch no. %d/%d  Error = %f' % (i+1, epochs, _err_total))\n",
    "        return loss_list_model\n",
    "\n",
    "    def retrieveModelWeights(self):\n",
    "      self.weights_tensor = list()\n",
    "      for layer in self.layers_list:\n",
    "        if isinstance(layer, Linear_Layer):\n",
    "          self.weights_tensor.append(layer.weights)\n",
    "          return self.weights_tensor\n",
    "\n"
   ]
  },
  {
   "attachments": {},
   "cell_type": "markdown",
   "metadata": {},
   "source": [
    "XOR Problem"
   ]
  },
  {
   "cell_type": "code",
   "execution_count": 12,
   "metadata": {},
   "outputs": [],
   "source": [
    "x_train = np.array([[[0,0]], [[0,1]], [[1,0]], [[1,1]]])\n",
    "y_train = np.array([[[0]], [[1]], [[1]], [[0]]])\n"
   ]
  },
  {
   "attachments": {},
   "cell_type": "markdown",
   "metadata": {},
   "source": [
    "Model 1 using hyperbolic tangent activation functions"
   ]
  },
  {
   "cell_type": "code",
   "execution_count": 13,
   "metadata": {},
   "outputs": [
    {
     "name": "stdout",
     "output_type": "stream",
     "text": [
      "Epoch no. 1/100  Error = 2.052137\n",
      "Epoch no. 6/100  Error = 0.373488\n",
      "Epoch no. 11/100  Error = 0.332436\n",
      "Epoch no. 16/100  Error = 0.284242\n",
      "Epoch no. 21/100  Error = 0.249273\n",
      "Epoch no. 26/100  Error = 0.231552\n",
      "Epoch no. 31/100  Error = 0.222750\n",
      "Epoch no. 36/100  Error = 0.217647\n",
      "Epoch no. 41/100  Error = 0.214217\n",
      "Epoch no. 46/100  Error = 0.211663\n",
      "Epoch no. 51/100  Error = 0.209615\n",
      "Epoch no. 56/100  Error = 0.207881\n",
      "Epoch no. 61/100  Error = 0.206355\n",
      "Epoch no. 66/100  Error = 0.204971\n",
      "Epoch no. 71/100  Error = 0.203687\n",
      "Epoch no. 76/100  Error = 0.202470\n",
      "Epoch no. 81/100  Error = 0.201291\n",
      "Epoch no. 86/100  Error = 0.200120\n",
      "Epoch no. 91/100  Error = 0.198923\n",
      "Epoch no. 96/100  Error = 0.197660\n",
      "Predicted for model 1 Using hyperbolic TAN Activation funtion: [array([[0.04524562]]), array([[0.65285595]]), array([[0.63775228]]), array([[0.65242614]])]\n",
      "[0, 1, 1, 1]\n",
      "Optimized weights for XOR problem: [array([[-0.94905951,  1.48402253],\n",
      "       [-0.90360726,  1.61428709]])]\n"
     ]
    }
   ],
   "source": [
    "\n",
    "modelTan = Sequential()\n",
    "modelTan.add(Linear_Layer(2, 2))\n",
    "tan_model1 = Tanh_Activation_Function()\n",
    "modelTan.add(Activation_Function_Layer(tan_model1.forward_pass_propgation, tan_model1.backward_pass_propgation))\n",
    "modelTan.add(Linear_Layer(2, 1))\n",
    "modelTan.add(Activation_Function_Layer(tan_model1.forward_pass_propgation, tan_model1.backward_pass_propgation))\n",
    "\n",
    "modelTan.applyLossFunction(calculateMeanSquaredError, calculateMSEGradient)\n",
    "modelTan.fit(x_train, y_train, epochs=100, lr=0.1)\n",
    "\n",
    "output_model1 = modelTan.predict(x_train)\n",
    "print(\"Predicted for model 1 Using hyperbolic TAN Activation funtion:\", output_model1)\n",
    "\n",
    "threshold = 0.5\n",
    "\n",
    "predicted = output_model1\n",
    "\n",
    "binary_predicted = [int(p > threshold) for p in predicted]\n",
    "print(binary_predicted)\n",
    "\n",
    "modelTan.retrieveModelWeights()\n",
    "\n",
    "modelTan.savingModel()\n",
    "optimizedXorWeights = modelTan.loadingModel()\n",
    "print(\"Optimized weights for XOR problem:\", optimizedXorWeights)\n"
   ]
  },
  {
   "cell_type": "code",
   "execution_count": 14,
   "metadata": {},
   "outputs": [
    {
     "name": "stdout",
     "output_type": "stream",
     "text": [
      "Accuracy Model 1 (hyperbolic tangent activations) :  0.75\n"
     ]
    }
   ],
   "source": [
    "acc_for_Model1 = accuracy_score([0,1,1,0], binary_predicted)\n",
    "\n",
    "print(\"Accuracy Model 1 (hyperbolic tangent activations) : \" ,acc_for_Model1)"
   ]
  },
  {
   "attachments": {},
   "cell_type": "markdown",
   "metadata": {},
   "source": [
    "Model 2 using Sigmoid Activation fucntions"
   ]
  },
  {
   "cell_type": "code",
   "execution_count": 15,
   "metadata": {},
   "outputs": [
    {
     "name": "stdout",
     "output_type": "stream",
     "text": [
      "Epoch no. 1/1000  Error = 0.349187\n",
      "Epoch no. 6/1000  Error = 0.306857\n",
      "Epoch no. 11/1000  Error = 0.282316\n",
      "Epoch no. 16/1000  Error = 0.269713\n",
      "Epoch no. 21/1000  Error = 0.263021\n",
      "Epoch no. 26/1000  Error = 0.259200\n",
      "Epoch no. 31/1000  Error = 0.256858\n",
      "Epoch no. 36/1000  Error = 0.255337\n",
      "Epoch no. 41/1000  Error = 0.254300\n",
      "Epoch no. 46/1000  Error = 0.253564\n",
      "Epoch no. 51/1000  Error = 0.253026\n",
      "Epoch no. 56/1000  Error = 0.252622\n",
      "Epoch no. 61/1000  Error = 0.252312\n",
      "Epoch no. 66/1000  Error = 0.252069\n",
      "Epoch no. 71/1000  Error = 0.251877\n",
      "Epoch no. 76/1000  Error = 0.251723\n",
      "Epoch no. 81/1000  Error = 0.251597\n",
      "Epoch no. 86/1000  Error = 0.251494\n",
      "Epoch no. 91/1000  Error = 0.251409\n",
      "Epoch no. 96/1000  Error = 0.251339\n",
      "Epoch no. 101/1000  Error = 0.251280\n",
      "Epoch no. 106/1000  Error = 0.251231\n",
      "Epoch no. 111/1000  Error = 0.251190\n",
      "Epoch no. 116/1000  Error = 0.251156\n",
      "Epoch no. 121/1000  Error = 0.251128\n",
      "Epoch no. 126/1000  Error = 0.251104\n",
      "Epoch no. 131/1000  Error = 0.251086\n",
      "Epoch no. 136/1000  Error = 0.251071\n",
      "Epoch no. 141/1000  Error = 0.251059\n",
      "Epoch no. 146/1000  Error = 0.251051\n",
      "Epoch no. 151/1000  Error = 0.251046\n",
      "Epoch no. 156/1000  Error = 0.251043\n",
      "Epoch no. 161/1000  Error = 0.251044\n",
      "Epoch no. 166/1000  Error = 0.251046\n",
      "Epoch no. 171/1000  Error = 0.251052\n",
      "Epoch no. 176/1000  Error = 0.251060\n",
      "Epoch no. 181/1000  Error = 0.251072\n",
      "Epoch no. 186/1000  Error = 0.251086\n",
      "Epoch no. 191/1000  Error = 0.251103\n",
      "Epoch no. 196/1000  Error = 0.251125\n",
      "Epoch no. 201/1000  Error = 0.251150\n",
      "Epoch no. 206/1000  Error = 0.251180\n",
      "Epoch no. 211/1000  Error = 0.251215\n",
      "Epoch no. 216/1000  Error = 0.251257\n",
      "Epoch no. 221/1000  Error = 0.251306\n",
      "Epoch no. 226/1000  Error = 0.251364\n",
      "Epoch no. 231/1000  Error = 0.251432\n",
      "Epoch no. 236/1000  Error = 0.251514\n",
      "Epoch no. 241/1000  Error = 0.251612\n",
      "Epoch no. 246/1000  Error = 0.251731\n",
      "Epoch no. 251/1000  Error = 0.251877\n",
      "Epoch no. 256/1000  Error = 0.252056\n",
      "Epoch no. 261/1000  Error = 0.252281\n",
      "Epoch no. 266/1000  Error = 0.252567\n",
      "Epoch no. 271/1000  Error = 0.252936\n",
      "Epoch no. 276/1000  Error = 0.253423\n",
      "Epoch no. 281/1000  Error = 0.254083\n",
      "Epoch no. 286/1000  Error = 0.255002\n",
      "Epoch no. 291/1000  Error = 0.256327\n",
      "Epoch no. 296/1000  Error = 0.258322\n",
      "Epoch no. 301/1000  Error = 0.261479\n",
      "Epoch no. 306/1000  Error = 0.266788\n",
      "Epoch no. 311/1000  Error = 0.276315\n",
      "Epoch no. 316/1000  Error = 0.294251\n",
      "Epoch no. 321/1000  Error = 0.326835\n",
      "Epoch no. 326/1000  Error = 0.373695\n",
      "Epoch no. 331/1000  Error = 0.417882\n",
      "Epoch no. 336/1000  Error = 0.447037\n",
      "Epoch no. 341/1000  Error = 0.463925\n",
      "Epoch no. 346/1000  Error = 0.473854\n",
      "Epoch no. 351/1000  Error = 0.480039\n",
      "Epoch no. 356/1000  Error = 0.484130\n",
      "Epoch no. 361/1000  Error = 0.486979\n",
      "Epoch no. 366/1000  Error = 0.489051\n",
      "Epoch no. 371/1000  Error = 0.490610\n",
      "Epoch no. 376/1000  Error = 0.491817\n",
      "Epoch no. 381/1000  Error = 0.492776\n",
      "Epoch no. 386/1000  Error = 0.493551\n",
      "Epoch no. 391/1000  Error = 0.494190\n",
      "Epoch no. 396/1000  Error = 0.494724\n",
      "Epoch no. 401/1000  Error = 0.495176\n",
      "Epoch no. 406/1000  Error = 0.495562\n",
      "Epoch no. 411/1000  Error = 0.495896\n",
      "Epoch no. 416/1000  Error = 0.496187\n",
      "Epoch no. 421/1000  Error = 0.496443\n",
      "Epoch no. 426/1000  Error = 0.496669\n",
      "Epoch no. 431/1000  Error = 0.496871\n",
      "Epoch no. 436/1000  Error = 0.497051\n",
      "Epoch no. 441/1000  Error = 0.497213\n",
      "Epoch no. 446/1000  Error = 0.497360\n",
      "Epoch no. 451/1000  Error = 0.497493\n",
      "Epoch no. 456/1000  Error = 0.497614\n",
      "Epoch no. 461/1000  Error = 0.497725\n",
      "Epoch no. 466/1000  Error = 0.497827\n",
      "Epoch no. 471/1000  Error = 0.497920\n",
      "Epoch no. 476/1000  Error = 0.498007\n",
      "Epoch no. 481/1000  Error = 0.498087\n",
      "Epoch no. 486/1000  Error = 0.498162\n",
      "Epoch no. 491/1000  Error = 0.498231\n",
      "Epoch no. 496/1000  Error = 0.498296\n",
      "Epoch no. 501/1000  Error = 0.498356\n",
      "Epoch no. 506/1000  Error = 0.498413\n",
      "Epoch no. 511/1000  Error = 0.498466\n",
      "Epoch no. 516/1000  Error = 0.498515\n",
      "Epoch no. 521/1000  Error = 0.498562\n",
      "Epoch no. 526/1000  Error = 0.498607\n",
      "Epoch no. 531/1000  Error = 0.498649\n",
      "Epoch no. 536/1000  Error = 0.498688\n",
      "Epoch no. 541/1000  Error = 0.498726\n",
      "Epoch no. 546/1000  Error = 0.498761\n",
      "Epoch no. 551/1000  Error = 0.498795\n",
      "Epoch no. 556/1000  Error = 0.498827\n",
      "Epoch no. 561/1000  Error = 0.498857\n",
      "Epoch no. 566/1000  Error = 0.498887\n",
      "Epoch no. 571/1000  Error = 0.498914\n",
      "Epoch no. 576/1000  Error = 0.498941\n",
      "Epoch no. 581/1000  Error = 0.498966\n",
      "Epoch no. 586/1000  Error = 0.498990\n",
      "Epoch no. 591/1000  Error = 0.499013\n",
      "Epoch no. 596/1000  Error = 0.499036\n",
      "Epoch no. 601/1000  Error = 0.499057\n",
      "Epoch no. 606/1000  Error = 0.499077\n",
      "Epoch no. 611/1000  Error = 0.499097\n",
      "Epoch no. 616/1000  Error = 0.499116\n",
      "Epoch no. 621/1000  Error = 0.499134\n",
      "Epoch no. 626/1000  Error = 0.499151\n",
      "Epoch no. 631/1000  Error = 0.499168\n",
      "Epoch no. 636/1000  Error = 0.499184\n",
      "Epoch no. 641/1000  Error = 0.499200\n",
      "Epoch no. 646/1000  Error = 0.499215\n",
      "Epoch no. 651/1000  Error = 0.499230\n",
      "Epoch no. 656/1000  Error = 0.499244\n",
      "Epoch no. 661/1000  Error = 0.499257\n",
      "Epoch no. 666/1000  Error = 0.499271\n",
      "Epoch no. 671/1000  Error = 0.499283\n",
      "Epoch no. 676/1000  Error = 0.499296\n",
      "Epoch no. 681/1000  Error = 0.499307\n",
      "Epoch no. 686/1000  Error = 0.499319\n",
      "Epoch no. 691/1000  Error = 0.499330\n",
      "Epoch no. 696/1000  Error = 0.499341\n",
      "Epoch no. 701/1000  Error = 0.499352\n",
      "Epoch no. 706/1000  Error = 0.499362\n",
      "Epoch no. 711/1000  Error = 0.499372\n",
      "Epoch no. 716/1000  Error = 0.499381\n",
      "Epoch no. 721/1000  Error = 0.499391\n",
      "Epoch no. 726/1000  Error = 0.499400\n",
      "Epoch no. 731/1000  Error = 0.499409\n",
      "Epoch no. 736/1000  Error = 0.499417\n",
      "Epoch no. 741/1000  Error = 0.499426\n",
      "Epoch no. 746/1000  Error = 0.499434\n",
      "Epoch no. 751/1000  Error = 0.499442\n",
      "Epoch no. 756/1000  Error = 0.499450\n",
      "Epoch no. 761/1000  Error = 0.499457\n",
      "Epoch no. 766/1000  Error = 0.499464\n",
      "Epoch no. 771/1000  Error = 0.499472\n",
      "Epoch no. 776/1000  Error = 0.499479\n",
      "Epoch no. 781/1000  Error = 0.499485\n",
      "Epoch no. 786/1000  Error = 0.499492\n",
      "Epoch no. 791/1000  Error = 0.499498\n",
      "Epoch no. 796/1000  Error = 0.499505\n",
      "Epoch no. 801/1000  Error = 0.499511\n",
      "Epoch no. 806/1000  Error = 0.499517\n",
      "Epoch no. 811/1000  Error = 0.499523\n",
      "Epoch no. 816/1000  Error = 0.499529\n",
      "Epoch no. 821/1000  Error = 0.499534\n",
      "Epoch no. 826/1000  Error = 0.499540\n",
      "Epoch no. 831/1000  Error = 0.499545\n",
      "Epoch no. 836/1000  Error = 0.499551\n",
      "Epoch no. 841/1000  Error = 0.499556\n",
      "Epoch no. 846/1000  Error = 0.499561\n",
      "Epoch no. 851/1000  Error = 0.499566\n",
      "Epoch no. 856/1000  Error = 0.499571\n",
      "Epoch no. 861/1000  Error = 0.499575\n",
      "Epoch no. 866/1000  Error = 0.499580\n",
      "Epoch no. 871/1000  Error = 0.499585\n",
      "Epoch no. 876/1000  Error = 0.499589\n",
      "Epoch no. 881/1000  Error = 0.499593\n",
      "Epoch no. 886/1000  Error = 0.499598\n",
      "Epoch no. 891/1000  Error = 0.499602\n",
      "Epoch no. 896/1000  Error = 0.499606\n",
      "Epoch no. 901/1000  Error = 0.499610\n",
      "Epoch no. 906/1000  Error = 0.499614\n",
      "Epoch no. 911/1000  Error = 0.499618\n",
      "Epoch no. 916/1000  Error = 0.499622\n",
      "Epoch no. 921/1000  Error = 0.499625\n",
      "Epoch no. 926/1000  Error = 0.499629\n",
      "Epoch no. 931/1000  Error = 0.499633\n",
      "Epoch no. 936/1000  Error = 0.499636\n",
      "Epoch no. 941/1000  Error = 0.499640\n",
      "Epoch no. 946/1000  Error = 0.499643\n",
      "Epoch no. 951/1000  Error = 0.499646\n",
      "Epoch no. 956/1000  Error = 0.499650\n",
      "Epoch no. 961/1000  Error = 0.499653\n",
      "Epoch no. 966/1000  Error = 0.499656\n",
      "Epoch no. 971/1000  Error = 0.499659\n",
      "Epoch no. 976/1000  Error = 0.499662\n",
      "Epoch no. 981/1000  Error = 0.499665\n",
      "Epoch no. 986/1000  Error = 0.499668\n",
      "Epoch no. 991/1000  Error = 0.499671\n",
      "Epoch no. 996/1000  Error = 0.499674\n",
      "Predicted for model 2 Using Sigmoid Activation funtion: [array([[0.00040047]]), array([[0.00042713]]), array([[0.00021925]]), array([[0.00023001]])]\n",
      "[0, 0, 0, 0]\n",
      "Optimized weights for XOR problem: [array([[ 4.24954897e-01,  8.68136439e-01],\n",
      "       [-6.12175723e-04, -9.98343069e-02]])]\n",
      "Accuracy Model 2 (sigmoid activations) :  0.5\n"
     ]
    }
   ],
   "source": [
    "\n",
    "modelSig = Sequential()\n",
    "modelSig.add(Linear_Layer(2, 2))\n",
    "sig_model2 = Sigmoid_Activation_Function()\n",
    "modelSig.add(Activation_Function_Layer(sig_model2.forward_pass_propgation, sig_model2.backward_pass_propgation))\n",
    "modelSig.add(Linear_Layer(2, 1))\n",
    "modelSig.add(Activation_Function_Layer(sig_model2.forward_pass_propgation, sig_model2.backward_pass_propgation))\n",
    "\n",
    "modelSig.applyLossFunction(calculateMeanSquaredError, calculateMSEGradient)\n",
    "modelSig.fit(x_train, y_train, epochs=1000, lr=0.1)\n",
    "\n",
    "output_model2 = modelSig.predict(x_train)\n",
    "print(\"Predicted for model 2 Using Sigmoid Activation funtion:\", output_model2)\n",
    "\n",
    "threshold = 0.5\n",
    "predicted = output_model2\n",
    "binary_predicted = [int(p > threshold) for p in predicted]\n",
    "print(binary_predicted)\n",
    "\n",
    "modelSig.retrieveModelWeights()\n",
    "\n",
    "modelSig.savingModel()\n",
    "optimizedXorWeights = modelSig.loadingModel()\n",
    "print(\"Optimized weights for XOR problem:\", optimizedXorWeights)\n",
    "acc_for_Model2 = accuracy_score([0,1,1,0], binary_predicted)\n",
    "\n",
    "print(\"Accuracy Model 2 (sigmoid activations) : \" ,acc_for_Model2)"
   ]
  },
  {
   "attachments": {},
   "cell_type": "markdown",
   "metadata": {},
   "source": [
    "When compared the activation fucntions, we can see that the hyperbolic tangent activations give a better accuracy over sigmoid activation fucntion and its easier to train. "
   ]
  },
  {
   "attachments": {},
   "cell_type": "markdown",
   "metadata": {},
   "source": [
    "2) Handwritten digit (MNist)"
   ]
  },
  {
   "cell_type": "code",
   "execution_count": 16,
   "metadata": {},
   "outputs": [],
   "source": [
    "from keras.datasets import mnist\n",
    "from keras.utils import np_utils"
   ]
  },
  {
   "cell_type": "code",
   "execution_count": 17,
   "metadata": {},
   "outputs": [],
   "source": [
    "(x_train_full, y_train_full), (x_test, y_test) = mnist.load_data()\n",
    "\n",
    "x_train, x_val, y_train, y_val = train_test_split(x_train_full, y_train_full, test_size=0.1, random_state=42)\n"
   ]
  },
  {
   "cell_type": "code",
   "execution_count": 18,
   "metadata": {},
   "outputs": [],
   "source": [
    "def preprocessMnist_X(X):\n",
    "    X = X.reshape(X.shape[0], 1, 28*28) \n",
    "    X = X.astype('float32') \n",
    "    X /= 255\n",
    "    return X"
   ]
  },
  {
   "cell_type": "code",
   "execution_count": 19,
   "metadata": {},
   "outputs": [],
   "source": [
    "x_train = preprocessMnist_X(x_train)\n",
    "x_test = preprocessMnist_X(x_test)\n",
    "x_val = preprocessMnist_X(x_val)"
   ]
  },
  {
   "cell_type": "code",
   "execution_count": 20,
   "metadata": {},
   "outputs": [],
   "source": [
    "y_test = np_utils.to_categorical(y_test)\n",
    "y_train = np_utils.to_categorical(y_train)\n",
    "y_val = np_utils.to_categorical(y_val)\n"
   ]
  },
  {
   "cell_type": "code",
   "execution_count": 21,
   "metadata": {},
   "outputs": [],
   "source": [
    "def convert_to_binary(arr):\n",
    "    binary_arr = []\n",
    "    for a in arr:\n",
    "        max_index = np.argmax(a)\n",
    "        binary = np.zeros(10)\n",
    "        binary[max_index] = 1\n",
    "        binary_arr.append(binary)\n",
    "    return np.array(binary_arr)"
   ]
  },
  {
   "cell_type": "code",
   "execution_count": 22,
   "metadata": {},
   "outputs": [],
   "source": [
    "def accuracy_MNist(y_actual, y_pred):\n",
    "    y_pred_indices = np.argmax(y_pred, axis=1)\n",
    "    y_actual_indices = np.argmax(y_actual, axis=1)\n",
    "    correct = np.sum(y_pred_indices == y_actual_indices)\n",
    "    acc = correct / len(y_actual) * 100\n",
    "    return acc"
   ]
  },
  {
   "attachments": {},
   "cell_type": "markdown",
   "metadata": {},
   "source": [
    "Model 1 with learning rate 0.01 and hyperbolic tangent activation functions"
   ]
  },
  {
   "cell_type": "code",
   "execution_count": 23,
   "metadata": {},
   "outputs": [],
   "source": [
    "mnist_model_11 = Sequential() \n",
    "tan_model_mn = Tanh_Activation_Function()\n",
    "mnist_model_11.add(Linear_Layer(28*28, 100))              \n",
    "mnist_model_11.add(Activation_Function_Layer(tan_model_mn.forward_pass_propgation, tan_model_mn.backward_pass_propgation)) \n",
    "\n",
    "mnist_model_11.add(Linear_Layer(100, 50))           \n",
    "mnist_model_11.add(Activation_Function_Layer(tan_model_mn.forward_pass_propgation, tan_model_mn.backward_pass_propgation))  \n",
    "\n",
    "mnist_model_11.add(Linear_Layer(50, 10))                 \n",
    "mnist_model_11.add(Activation_Function_Layer(tan_model_mn.forward_pass_propgation, tan_model_mn.backward_pass_propgation))  \n"
   ]
  },
  {
   "cell_type": "code",
   "execution_count": 24,
   "metadata": {},
   "outputs": [
    {
     "name": "stdout",
     "output_type": "stream",
     "text": [
      "Epoch no. 1/10  Error = 0.021927\n",
      "Epoch no. 6/10  Error = 0.005400\n",
      "Optimized weights for Mnist problem: [array([[ 0.00185288, -0.01615189, -0.03338356, ..., -0.06905435,\n",
      "         0.00342254, -0.04098517],\n",
      "       [-0.07673472, -0.01389846, -0.02985741, ..., -0.03493314,\n",
      "        -0.05587761, -0.03196336],\n",
      "       [ 0.00884413,  0.02762573, -0.02181616, ..., -0.0655666 ,\n",
      "        -0.04371947,  0.03850567],\n",
      "       ...,\n",
      "       [-0.05765154, -0.01109967,  0.00153387, ..., -0.03538051,\n",
      "        -0.02223947,  0.00805678],\n",
      "       [ 0.04764852,  0.04802755,  0.01505391, ..., -0.04583054,\n",
      "        -0.003717  ,  0.03513197],\n",
      "       [ 0.02824673, -0.01397756, -0.00792746, ...,  0.01114813,\n",
      "         0.0166381 ,  0.0022196 ]])]\n"
     ]
    }
   ],
   "source": [
    "mnist_model_11.applyLossFunction(calculateMeanSquaredError, calculateMSEGradient)\n",
    "loss11 = mnist_model_11.fit(x_train, y_train, epochs=10, lr=0.1)\n",
    "\n",
    "mnist_model_11.retrieveModelWeights()\n",
    "\n",
    "mnist_model_11.savingModel()\n",
    "optimizedMnistWeights = mnist_model_11.loadingModel()\n",
    "print(\"Optimized weights for Mnist problem:\", optimizedMnistWeights)"
   ]
  },
  {
   "cell_type": "code",
   "execution_count": 25,
   "metadata": {},
   "outputs": [
    {
     "data": {
      "text/plain": [
       "Text(0.5, 0, 'Epochs')"
      ]
     },
     "execution_count": 25,
     "metadata": {},
     "output_type": "execute_result"
    },
    {
     "data": {
      "image/png": "[encoded data removed]",
      "text/plain": [
       "<Figure size 640x480 with 1 Axes>"
      ]
     },
     "metadata": {},
     "output_type": "display_data"
    }
   ],
   "source": [
    "plt.plot(loss11)\n",
    "plt.title('Loss funtion for Model 1 (Training Dataset)')\n",
    "plt.ylabel('Loss')\n",
    "plt.xlabel('Epochs')"
   ]
  },
  {
   "cell_type": "code",
   "execution_count": 26,
   "metadata": {},
   "outputs": [
    {
     "name": "stdout",
     "output_type": "stream",
     "text": [
      " Accuracy for model 1 on training dataset:  98.39259259259259\n"
     ]
    }
   ],
   "source": [
    "model_pred = mnist_model_11.model_predict(x_train)\n",
    "t = convert_to_binary(model_pred)\n",
    "print(' Accuracy for model 1 on training dataset: ',accuracy_MNist(y_train , t))"
   ]
  },
  {
   "attachments": {},
   "cell_type": "markdown",
   "metadata": {},
   "source": [
    "Model 2 with learning rate 0.1 and tangent activation functions"
   ]
  },
  {
   "cell_type": "code",
   "execution_count": 27,
   "metadata": {},
   "outputs": [],
   "source": [
    "mnist_model_12 = Sequential()  \n",
    "sig_model_mn = Tanh_Activation_Function()\n",
    "mnist_model_12.add(Linear_Layer(28*28, 40 ))              \n",
    "mnist_model_12.add(Activation_Function_Layer(sig_model_mn.forward_pass_propgation, sig_model_mn.backward_pass_propgation)) \n",
    "\n",
    "mnist_model_12.add(Linear_Layer(40, 20))                 \n",
    "mnist_model_12.add(Activation_Function_Layer(sig_model_mn.forward_pass_propgation, sig_model_mn.backward_pass_propgation))  \n",
    "\n",
    "mnist_model_12.add(Linear_Layer(20, 10))                 \n",
    "mnist_model_12.add(Activation_Function_Layer(sig_model_mn.forward_pass_propgation, sig_model_mn.backward_pass_propgation))  \n"
   ]
  },
  {
   "cell_type": "code",
   "execution_count": 28,
   "metadata": {},
   "outputs": [
    {
     "name": "stdout",
     "output_type": "stream",
     "text": [
      "Epoch no. 1/10  Error = 0.020976\n",
      "Epoch no. 6/10  Error = 0.006930\n",
      "Optimized weights for Mnist problem: [array([[ 0.01564054,  0.02707454,  0.01561285, ...,  0.02728491,\n",
      "        -0.00417642, -0.05849525],\n",
      "       [ 0.03109804,  0.02274862,  0.00792164, ...,  0.00892723,\n",
      "         0.00709174, -0.01191747],\n",
      "       [-0.09302834, -0.00813066,  0.01943743, ...,  0.02326609,\n",
      "         0.02482833,  0.00438921],\n",
      "       ...,\n",
      "       [ 0.04715774,  0.03999683,  0.01971856, ...,  0.00478869,\n",
      "        -0.01813379, -0.01071457],\n",
      "       [-0.05000259, -0.00268667, -0.00666881, ..., -0.0034908 ,\n",
      "        -0.05900543,  0.03697062],\n",
      "       [-0.00669305, -0.01024408,  0.02568135, ..., -0.00049215,\n",
      "        -0.04466744, -0.04032841]])]\n"
     ]
    }
   ],
   "source": [
    "mnist_model_12.applyLossFunction(calculateMeanSquaredError, calculateMSEGradient)\n",
    "loss12 = mnist_model_12.fit(x_train, y_train, epochs=10, lr=0.1)\n",
    "\n",
    "mnist_model_12.retrieveModelWeights()\n",
    "\n",
    "mnist_model_12.savingModel()\n",
    "optimizedMnistWeights = mnist_model_12.loadingModel()\n",
    "print(\"Optimized weights for Mnist problem:\", optimizedMnistWeights)"
   ]
  },
  {
   "cell_type": "code",
   "execution_count": 29,
   "metadata": {},
   "outputs": [
    {
     "data": {
      "text/plain": [
       "Text(0.5, 0, 'Epochs')"
      ]
     },
     "execution_count": 29,
     "metadata": {},
     "output_type": "execute_result"
    },
    {
     "data": {
      "image/png": "[encoded data removed]",
      "text/plain": [
       "<Figure size 640x480 with 1 Axes>"
      ]
     },
     "metadata": {},
     "output_type": "display_data"
    }
   ],
   "source": [
    "plt.plot(loss12)\n",
    "plt.title('Loss for Model 2')\n",
    "plt.ylabel('Loss')\n",
    "plt.xlabel('Epochs')"
   ]
  },
  {
   "cell_type": "code",
   "execution_count": 30,
   "metadata": {},
   "outputs": [
    {
     "name": "stdout",
     "output_type": "stream",
     "text": [
      "Accuracy for Model 2 in traning data set:  97.27592592592592\n"
     ]
    }
   ],
   "source": [
    "model_pred = mnist_model_12.model_predict(x_train)\n",
    "t = convert_to_binary(model_pred)\n",
    "print('Accuracy for Model 2 in traning data set: ',accuracy_MNist(y_train , t))"
   ]
  },
  {
   "attachments": {},
   "cell_type": "markdown",
   "metadata": {},
   "source": [
    "Model 3 with learning rate 0.01 and TanhActivation functions"
   ]
  },
  {
   "cell_type": "code",
   "execution_count": 31,
   "metadata": {},
   "outputs": [],
   "source": [
    "mnist_model_13 = Sequential()  \n",
    "sig_model_mn = Tanh_Activation_Function()\n",
    "mnist_model_13.add(Linear_Layer(28*28, 40 ))              \n",
    "mnist_model_13.add(Activation_Function_Layer(sig_model_mn.forward_pass_propgation, sig_model_mn.backward_pass_propgation)) \n",
    "\n",
    "mnist_model_13.add(Linear_Layer(40, 10))                 \n",
    "mnist_model_13.add(Activation_Function_Layer(sig_model_mn.forward_pass_propgation, sig_model_mn.backward_pass_propgation))  \n",
    "\n"
   ]
  },
  {
   "cell_type": "code",
   "execution_count": 32,
   "metadata": {},
   "outputs": [
    {
     "name": "stdout",
     "output_type": "stream",
     "text": [
      "Epoch no. 1/10  Error = 0.023770\n",
      "Epoch no. 6/10  Error = 0.013752\n",
      "Optimized weights for Mnist problem: [array([[-0.02809791,  0.00346596, -0.01131616, ..., -0.01275127,\n",
      "        -0.02090682, -0.01822816],\n",
      "       [-0.04191252,  0.00974119,  0.04278796, ...,  0.01733992,\n",
      "         0.10785595, -0.01731582],\n",
      "       [ 0.09234326, -0.05635328, -0.01317023, ..., -0.07046319,\n",
      "         0.05736211, -0.00603513],\n",
      "       ...,\n",
      "       [-0.03091382,  0.03687527, -0.02626023, ..., -0.02131642,\n",
      "         0.00095276, -0.02442924],\n",
      "       [ 0.03603653, -0.00973749, -0.01350423, ..., -0.00729038,\n",
      "         0.01967792, -0.05927115],\n",
      "       [-0.00545571, -0.02559106, -0.0174834 , ...,  0.02428095,\n",
      "         0.03682754, -0.01413523]])]\n"
     ]
    }
   ],
   "source": [
    "mnist_model_13.applyLossFunction(calculateMeanSquaredError, calculateMSEGradient)\n",
    "loss13 = mnist_model_13.fit(x_train, y_train, epochs=10, lr=0.1)\n",
    "\n",
    "mnist_model_13.retrieveModelWeights()\n",
    "\n",
    "mnist_model_13.savingModel()\n",
    "optimizedMnistWeights = mnist_model_13.loadingModel()\n",
    "print(\"Optimized weights for Mnist problem:\", optimizedMnistWeights)"
   ]
  },
  {
   "cell_type": "code",
   "execution_count": 33,
   "metadata": {},
   "outputs": [
    {
     "data": {
      "text/plain": [
       "Text(0.5, 0, 'Epochs')"
      ]
     },
     "execution_count": 33,
     "metadata": {},
     "output_type": "execute_result"
    },
    {
     "data": {
      "image/png": "[encoded data removed]",
      "text/plain": [
       "<Figure size 640x480 with 1 Axes>"
      ]
     },
     "metadata": {},
     "output_type": "display_data"
    }
   ],
   "source": [
    "plt.plot(loss13)\n",
    "plt.title('Loss for Model 3')\n",
    "plt.ylabel('Loss')\n",
    "plt.xlabel('Epochs')"
   ]
  },
  {
   "cell_type": "code",
   "execution_count": 34,
   "metadata": {},
   "outputs": [
    {
     "name": "stdout",
     "output_type": "stream",
     "text": [
      "Accuracy for Model 3 in traning data set 94.79444444444445\n"
     ]
    }
   ],
   "source": [
    "model_pred = mnist_model_13.model_predict(x_train)\n",
    "t = convert_to_binary(model_pred)\n",
    "print('Accuracy for Model 3 in traning data set',accuracy_MNist(y_train , t))"
   ]
  },
  {
   "attachments": {},
   "cell_type": "markdown",
   "metadata": {},
   "source": [
    "Model performances on the test data sets\n"
   ]
  },
  {
   "cell_type": "code",
   "execution_count": 35,
   "metadata": {},
   "outputs": [
    {
     "name": "stdout",
     "output_type": "stream",
     "text": [
      "Epoch no. 1/10  Error = 0.005003\n",
      "Epoch no. 6/10  Error = 0.003456\n",
      "Accuracy on Model 1 on test dataset 98.5\n"
     ]
    },
    {
     "data": {
      "text/plain": [
       "Text(0.5, 0, 'Epochs')"
      ]
     },
     "execution_count": 35,
     "metadata": {},
     "output_type": "execute_result"
    },
    {
     "data": {
      "image/png": "[encoded data removed]",
      "text/plain": [
       "<Figure size 640x480 with 1 Axes>"
      ]
     },
     "metadata": {},
     "output_type": "display_data"
    }
   ],
   "source": [
    "mnist_model_11.applyLossFunction(calculateMeanSquaredError, calculateMSEGradient)\n",
    "loss111 = mnist_model_11.fit(x_test, y_test, epochs=10, lr=0.01)\n",
    "model_pred = mnist_model_11.model_predict(x_test)\n",
    "t = convert_to_binary(model_pred)\n",
    "print(\"Accuracy on Model 1 on test dataset\", accuracy_MNist(y_test , t))\n",
    "plt.plot(loss111)\n",
    "plt.title('Loss fucntion for Model 1 on Test dataset ')\n",
    "plt.ylabel('Loss')\n",
    "plt.xlabel('Epochs')\n"
   ]
  },
  {
   "cell_type": "code",
   "execution_count": 36,
   "metadata": {},
   "outputs": [
    {
     "name": "stdout",
     "output_type": "stream",
     "text": [
      "Epoch no. 1/20  Error = 0.007495\n",
      "Epoch no. 6/20  Error = 0.003554\n",
      "Epoch no. 11/20  Error = 0.002464\n",
      "Epoch no. 16/20  Error = 0.002012\n",
      "Accuracy on Model 2:  99.15\n"
     ]
    },
    {
     "data": {
      "text/plain": [
       "Text(0.5, 0, 'Total epochs')"
      ]
     },
     "execution_count": 36,
     "metadata": {},
     "output_type": "execute_result"
    },
    {
     "data": {
      "image/png": "[encoded data removed]",
      "text/plain": [
       "<Figure size 640x480 with 1 Axes>"
      ]
     },
     "metadata": {},
     "output_type": "display_data"
    }
   ],
   "source": [
    "mnist_model_12.applyLossFunction(calculateMeanSquaredError, calculateMSEGradient)\n",
    "loss222 = mnist_model_12.fit(x_test, y_test, epochs=20, lr=0.1)\n",
    "\n",
    "model_pred = mnist_model_12.model_predict(x_test)\n",
    "t = convert_to_binary(model_pred)\n",
    "print(\"Accuracy on Model 2: \", accuracy_MNist(y_test , t))\n",
    "\n",
    "plt.plot(loss222)\n",
    "plt.title('Loss fucntion for Model 2 on Test dataset ')\n",
    "plt.ylabel('Loss percentage')\n",
    "plt.xlabel('Total epochs')"
   ]
  },
  {
   "cell_type": "code",
   "execution_count": 37,
   "metadata": {},
   "outputs": [
    {
     "name": "stdout",
     "output_type": "stream",
     "text": [
      "Epoch no. 1/20  Error = 0.013236\n",
      "Epoch no. 6/20  Error = 0.010596\n",
      "Epoch no. 11/20  Error = 0.009575\n",
      "Epoch no. 16/20  Error = 0.008913\n",
      "Accuracy on Model 3:  96.44\n"
     ]
    },
    {
     "data": {
      "image/png": "[encoded data removed]",
      "text/plain": [
       "<Figure size 640x480 with 1 Axes>"
      ]
     },
     "metadata": {},
     "output_type": "display_data"
    }
   ],
   "source": [
    "mnist_model_13.applyLossFunction(calculateMeanSquaredError, calculateMSEGradient)\n",
    "loss333 = mnist_model_13.fit(x_test, y_test, epochs=20, lr=0.1)\n",
    "plt.plot(loss333)\n",
    "plt.title('Loss fucntion for Model 3 on Test dataset ')\n",
    "plt.ylabel('Loss')\n",
    "plt.xlabel('Epochs')\n",
    "model_pred = mnist_model_13.model_predict(x_test)\n",
    "t = convert_to_binary(model_pred)\n",
    "print(\"Accuracy on Model 3: \", accuracy_MNist(y_test , t))"
   ]
  },
  {
   "cell_type": "code",
   "execution_count": null,
   "metadata": {},
   "outputs": [],
   "source": []
  }
 ],
 "metadata": {
  "kernelspec": {
   "display_name": "Python 3",
   "language": "python",
   "name": "python3"
  },
  "language_info": {
   "codemirror_mode": {
    "name": "ipython",
    "version": 3
   },
   "file_extension": ".py",
   "mimetype": "text/x-python",
   "name": "python",
   "nbconvert_exporter": "python",
   "pygments_lexer": "ipython3",
   "version": "3.11.1"
  },
  "orig_nbformat": 4,
  "vscode": {
   "interpreter": {
    "hash": "0c2c22d461e19b6e36b9f54be405de379086c129d5e41e49521cb1aa8a952dbd"
   }
  }
 },
 "nbformat": 4,
 "nbformat_minor": 2
}
